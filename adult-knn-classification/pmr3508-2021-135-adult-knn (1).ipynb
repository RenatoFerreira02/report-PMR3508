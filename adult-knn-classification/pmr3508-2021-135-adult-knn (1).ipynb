{
 "cells": [
  {
   "cell_type": "markdown",
   "id": "35ed8603",
   "metadata": {
    "papermill": {
     "duration": 0.042247,
     "end_time": "2021-10-06T14:57:30.425525",
     "exception": false,
     "start_time": "2021-10-06T14:57:30.383278",
     "status": "completed"
    },
    "tags": []
   },
   "source": [
    "# Classificação com Adult set\n"
   ]
  },
  {
   "cell_type": "markdown",
   "id": "98d7acf5",
   "metadata": {
    "papermill": {
     "duration": 0.040799,
     "end_time": "2021-10-06T14:57:30.511737",
     "exception": false,
     "start_time": "2021-10-06T14:57:30.470938",
     "status": "completed"
    },
    "tags": []
   },
   "source": [
    "## Importando Pacotes e settings"
   ]
  },
  {
   "cell_type": "code",
   "execution_count": 1,
   "id": "7216dad3",
   "metadata": {
    "execution": {
     "iopub.execute_input": "2021-10-06T14:57:30.600320Z",
     "iopub.status.busy": "2021-10-06T14:57:30.598541Z",
     "iopub.status.idle": "2021-10-06T14:57:31.834547Z",
     "shell.execute_reply": "2021-10-06T14:57:31.833597Z",
     "shell.execute_reply.started": "2021-10-06T14:56:33.446307Z"
    },
    "papermill": {
     "duration": 1.282206,
     "end_time": "2021-10-06T14:57:31.834728",
     "exception": false,
     "start_time": "2021-10-06T14:57:30.552522",
     "status": "completed"
    },
    "tags": []
   },
   "outputs": [],
   "source": [
    "import pandas as pd\n",
    "import sklearn\n",
    "from sklearn.neighbors import KNeighborsClassifier\n",
    "from sklearn.model_selection import cross_val_score\n",
    "from sklearn.metrics import accuracy_score\n",
    "from sklearn import preprocessing\n",
    "import numpy as np\n",
    "import seaborn as sns\n",
    "import matplotlib.pyplot as plt\n",
    "plt.rcParams[\"figure.figsize\"] = (10, 6)"
   ]
  },
  {
   "cell_type": "markdown",
   "id": "2ab49b24",
   "metadata": {
    "papermill": {
     "duration": 0.040991,
     "end_time": "2021-10-06T14:57:31.918003",
     "exception": false,
     "start_time": "2021-10-06T14:57:31.877012",
     "status": "completed"
    },
    "tags": []
   },
   "source": [
    "## Coletando as bases de dados de treino e teste"
   ]
  },
  {
   "cell_type": "code",
   "execution_count": 2,
   "id": "190b7080",
   "metadata": {
    "execution": {
     "iopub.execute_input": "2021-10-06T14:57:32.003153Z",
     "iopub.status.busy": "2021-10-06T14:57:32.002474Z",
     "iopub.status.idle": "2021-10-06T14:57:32.195124Z",
     "shell.execute_reply": "2021-10-06T14:57:32.195642Z",
     "shell.execute_reply.started": "2021-10-06T14:56:33.456538Z"
    },
    "papermill": {
     "duration": 0.236924,
     "end_time": "2021-10-06T14:57:32.195811",
     "exception": false,
     "start_time": "2021-10-06T14:57:31.958887",
     "status": "completed"
    },
    "tags": []
   },
   "outputs": [],
   "source": [
    "adult_train = pd.read_csv(\"/kaggle/input/adult-pmr3508/train_data.csv\", na_values='?', index_col= 0)\n",
    "adult_test = pd.read_csv(\"/kaggle/input/adult-pmr3508/test_data.csv\", na_values='?', index_col= 0)"
   ]
  },
  {
   "cell_type": "markdown",
   "id": "47592eb4",
   "metadata": {
    "papermill": {
     "duration": 0.041229,
     "end_time": "2021-10-06T14:57:32.278517",
     "exception": false,
     "start_time": "2021-10-06T14:57:32.237288",
     "status": "completed"
    },
    "tags": []
   },
   "source": [
    "## Visualizando algumas informações do Dataset"
   ]
  },
  {
   "cell_type": "code",
   "execution_count": 3,
   "id": "2b6a446a",
   "metadata": {
    "execution": {
     "iopub.execute_input": "2021-10-06T14:57:32.365057Z",
     "iopub.status.busy": "2021-10-06T14:57:32.364428Z",
     "iopub.status.idle": "2021-10-06T14:57:32.370958Z",
     "shell.execute_reply": "2021-10-06T14:57:32.371448Z",
     "shell.execute_reply.started": "2021-10-06T14:56:33.610248Z"
    },
    "papermill": {
     "duration": 0.051338,
     "end_time": "2021-10-06T14:57:32.371609",
     "exception": false,
     "start_time": "2021-10-06T14:57:32.320271",
     "status": "completed"
    },
    "tags": []
   },
   "outputs": [
    {
     "data": {
      "text/plain": [
       "(32560, 15)"
      ]
     },
     "execution_count": 3,
     "metadata": {},
     "output_type": "execute_result"
    }
   ],
   "source": [
    "#Mostra o formato da base de dados\n",
    "adult_train.shape"
   ]
  },
  {
   "cell_type": "code",
   "execution_count": 4,
   "id": "b74be008",
   "metadata": {
    "execution": {
     "iopub.execute_input": "2021-10-06T14:57:32.459425Z",
     "iopub.status.busy": "2021-10-06T14:57:32.458760Z",
     "iopub.status.idle": "2021-10-06T14:57:32.508143Z",
     "shell.execute_reply": "2021-10-06T14:57:32.507613Z",
     "shell.execute_reply.started": "2021-10-06T14:56:33.618106Z"
    },
    "papermill": {
     "duration": 0.094882,
     "end_time": "2021-10-06T14:57:32.508286",
     "exception": false,
     "start_time": "2021-10-06T14:57:32.413404",
     "status": "completed"
    },
    "tags": []
   },
   "outputs": [
    {
     "name": "stdout",
     "output_type": "stream",
     "text": [
      "<class 'pandas.core.frame.DataFrame'>\n",
      "Int64Index: 32560 entries, 16280 to 48839\n",
      "Data columns (total 15 columns):\n",
      " #   Column          Non-Null Count  Dtype \n",
      "---  ------          --------------  ----- \n",
      " 0   age             32560 non-null  int64 \n",
      " 1   workclass       30724 non-null  object\n",
      " 2   fnlwgt          32560 non-null  int64 \n",
      " 3   education       32560 non-null  object\n",
      " 4   education.num   32560 non-null  int64 \n",
      " 5   marital.status  32560 non-null  object\n",
      " 6   occupation      30717 non-null  object\n",
      " 7   relationship    32560 non-null  object\n",
      " 8   race            32560 non-null  object\n",
      " 9   sex             32560 non-null  object\n",
      " 10  capital.gain    32560 non-null  int64 \n",
      " 11  capital.loss    32560 non-null  int64 \n",
      " 12  hours.per.week  32560 non-null  int64 \n",
      " 13  native.country  31977 non-null  object\n",
      " 14  income          32560 non-null  object\n",
      "dtypes: int64(6), object(9)\n",
      "memory usage: 4.0+ MB\n"
     ]
    }
   ],
   "source": [
    "#Mostra algumas informações das features\n",
    "adult_train.info()"
   ]
  },
  {
   "cell_type": "code",
   "execution_count": 5,
   "id": "4a391caa",
   "metadata": {
    "execution": {
     "iopub.execute_input": "2021-10-06T14:57:32.597632Z",
     "iopub.status.busy": "2021-10-06T14:57:32.596950Z",
     "iopub.status.idle": "2021-10-06T14:57:32.599454Z",
     "shell.execute_reply": "2021-10-06T14:57:32.599933Z",
     "shell.execute_reply.started": "2021-10-06T14:56:33.674610Z"
    },
    "papermill": {
     "duration": 0.050121,
     "end_time": "2021-10-06T14:57:32.600125",
     "exception": false,
     "start_time": "2021-10-06T14:57:32.550004",
     "status": "completed"
    },
    "tags": []
   },
   "outputs": [
    {
     "data": {
      "text/plain": [
       "(16280, 14)"
      ]
     },
     "execution_count": 5,
     "metadata": {},
     "output_type": "execute_result"
    }
   ],
   "source": [
    "adult_test.shape"
   ]
  },
  {
   "cell_type": "code",
   "execution_count": 6,
   "id": "ebb94891",
   "metadata": {
    "execution": {
     "iopub.execute_input": "2021-10-06T14:57:32.687512Z",
     "iopub.status.busy": "2021-10-06T14:57:32.686897Z",
     "iopub.status.idle": "2021-10-06T14:57:32.708199Z",
     "shell.execute_reply": "2021-10-06T14:57:32.708699Z",
     "shell.execute_reply.started": "2021-10-06T14:56:33.683205Z"
    },
    "papermill": {
     "duration": 0.066359,
     "end_time": "2021-10-06T14:57:32.708864",
     "exception": false,
     "start_time": "2021-10-06T14:57:32.642505",
     "status": "completed"
    },
    "tags": []
   },
   "outputs": [
    {
     "data": {
      "text/html": [
       "<div>\n",
       "<style scoped>\n",
       "    .dataframe tbody tr th:only-of-type {\n",
       "        vertical-align: middle;\n",
       "    }\n",
       "\n",
       "    .dataframe tbody tr th {\n",
       "        vertical-align: top;\n",
       "    }\n",
       "\n",
       "    .dataframe thead th {\n",
       "        text-align: right;\n",
       "    }\n",
       "</style>\n",
       "<table border=\"1\" class=\"dataframe\">\n",
       "  <thead>\n",
       "    <tr style=\"text-align: right;\">\n",
       "      <th></th>\n",
       "      <th>age</th>\n",
       "      <th>workclass</th>\n",
       "      <th>fnlwgt</th>\n",
       "      <th>education</th>\n",
       "      <th>education.num</th>\n",
       "      <th>marital.status</th>\n",
       "      <th>occupation</th>\n",
       "      <th>relationship</th>\n",
       "      <th>race</th>\n",
       "      <th>sex</th>\n",
       "      <th>capital.gain</th>\n",
       "      <th>capital.loss</th>\n",
       "      <th>hours.per.week</th>\n",
       "      <th>native.country</th>\n",
       "      <th>income</th>\n",
       "    </tr>\n",
       "    <tr>\n",
       "      <th>Id</th>\n",
       "      <th></th>\n",
       "      <th></th>\n",
       "      <th></th>\n",
       "      <th></th>\n",
       "      <th></th>\n",
       "      <th></th>\n",
       "      <th></th>\n",
       "      <th></th>\n",
       "      <th></th>\n",
       "      <th></th>\n",
       "      <th></th>\n",
       "      <th></th>\n",
       "      <th></th>\n",
       "      <th></th>\n",
       "      <th></th>\n",
       "    </tr>\n",
       "  </thead>\n",
       "  <tbody>\n",
       "    <tr>\n",
       "      <th>16280</th>\n",
       "      <td>34</td>\n",
       "      <td>Private</td>\n",
       "      <td>204991</td>\n",
       "      <td>Some-college</td>\n",
       "      <td>10</td>\n",
       "      <td>Divorced</td>\n",
       "      <td>Exec-managerial</td>\n",
       "      <td>Own-child</td>\n",
       "      <td>White</td>\n",
       "      <td>Male</td>\n",
       "      <td>0</td>\n",
       "      <td>0</td>\n",
       "      <td>44</td>\n",
       "      <td>United-States</td>\n",
       "      <td>&lt;=50K</td>\n",
       "    </tr>\n",
       "    <tr>\n",
       "      <th>16281</th>\n",
       "      <td>58</td>\n",
       "      <td>Local-gov</td>\n",
       "      <td>310085</td>\n",
       "      <td>10th</td>\n",
       "      <td>6</td>\n",
       "      <td>Married-civ-spouse</td>\n",
       "      <td>Transport-moving</td>\n",
       "      <td>Husband</td>\n",
       "      <td>White</td>\n",
       "      <td>Male</td>\n",
       "      <td>0</td>\n",
       "      <td>0</td>\n",
       "      <td>40</td>\n",
       "      <td>United-States</td>\n",
       "      <td>&lt;=50K</td>\n",
       "    </tr>\n",
       "    <tr>\n",
       "      <th>16282</th>\n",
       "      <td>25</td>\n",
       "      <td>Private</td>\n",
       "      <td>146117</td>\n",
       "      <td>Some-college</td>\n",
       "      <td>10</td>\n",
       "      <td>Never-married</td>\n",
       "      <td>Machine-op-inspct</td>\n",
       "      <td>Not-in-family</td>\n",
       "      <td>White</td>\n",
       "      <td>Male</td>\n",
       "      <td>0</td>\n",
       "      <td>0</td>\n",
       "      <td>42</td>\n",
       "      <td>United-States</td>\n",
       "      <td>&lt;=50K</td>\n",
       "    </tr>\n",
       "    <tr>\n",
       "      <th>16283</th>\n",
       "      <td>24</td>\n",
       "      <td>Private</td>\n",
       "      <td>138938</td>\n",
       "      <td>Some-college</td>\n",
       "      <td>10</td>\n",
       "      <td>Divorced</td>\n",
       "      <td>Adm-clerical</td>\n",
       "      <td>Not-in-family</td>\n",
       "      <td>White</td>\n",
       "      <td>Female</td>\n",
       "      <td>0</td>\n",
       "      <td>0</td>\n",
       "      <td>40</td>\n",
       "      <td>United-States</td>\n",
       "      <td>&lt;=50K</td>\n",
       "    </tr>\n",
       "    <tr>\n",
       "      <th>16284</th>\n",
       "      <td>57</td>\n",
       "      <td>Self-emp-inc</td>\n",
       "      <td>258883</td>\n",
       "      <td>HS-grad</td>\n",
       "      <td>9</td>\n",
       "      <td>Married-civ-spouse</td>\n",
       "      <td>Transport-moving</td>\n",
       "      <td>Husband</td>\n",
       "      <td>White</td>\n",
       "      <td>Male</td>\n",
       "      <td>5178</td>\n",
       "      <td>0</td>\n",
       "      <td>60</td>\n",
       "      <td>Hungary</td>\n",
       "      <td>&gt;50K</td>\n",
       "    </tr>\n",
       "  </tbody>\n",
       "</table>\n",
       "</div>"
      ],
      "text/plain": [
       "       age     workclass  fnlwgt     education  education.num  \\\n",
       "Id                                                              \n",
       "16280   34       Private  204991  Some-college             10   \n",
       "16281   58     Local-gov  310085          10th              6   \n",
       "16282   25       Private  146117  Some-college             10   \n",
       "16283   24       Private  138938  Some-college             10   \n",
       "16284   57  Self-emp-inc  258883       HS-grad              9   \n",
       "\n",
       "           marital.status         occupation   relationship   race     sex  \\\n",
       "Id                                                                           \n",
       "16280            Divorced    Exec-managerial      Own-child  White    Male   \n",
       "16281  Married-civ-spouse   Transport-moving        Husband  White    Male   \n",
       "16282       Never-married  Machine-op-inspct  Not-in-family  White    Male   \n",
       "16283            Divorced       Adm-clerical  Not-in-family  White  Female   \n",
       "16284  Married-civ-spouse   Transport-moving        Husband  White    Male   \n",
       "\n",
       "       capital.gain  capital.loss  hours.per.week native.country income  \n",
       "Id                                                                       \n",
       "16280             0             0              44  United-States  <=50K  \n",
       "16281             0             0              40  United-States  <=50K  \n",
       "16282             0             0              42  United-States  <=50K  \n",
       "16283             0             0              40  United-States  <=50K  \n",
       "16284          5178             0              60        Hungary   >50K  "
      ]
     },
     "execution_count": 6,
     "metadata": {},
     "output_type": "execute_result"
    }
   ],
   "source": [
    "#Mostra o início da base de dados\n",
    "adult_train.head()"
   ]
  },
  {
   "cell_type": "code",
   "execution_count": 7,
   "id": "951e6b6b",
   "metadata": {
    "execution": {
     "iopub.execute_input": "2021-10-06T14:57:32.810852Z",
     "iopub.status.busy": "2021-10-06T14:57:32.809900Z",
     "iopub.status.idle": "2021-10-06T14:57:32.813115Z",
     "shell.execute_reply": "2021-10-06T14:57:32.813597Z",
     "shell.execute_reply.started": "2021-10-06T14:56:33.710669Z"
    },
    "papermill": {
     "duration": 0.061987,
     "end_time": "2021-10-06T14:57:32.813762",
     "exception": false,
     "start_time": "2021-10-06T14:57:32.751775",
     "status": "completed"
    },
    "tags": []
   },
   "outputs": [
    {
     "data": {
      "text/html": [
       "<div>\n",
       "<style scoped>\n",
       "    .dataframe tbody tr th:only-of-type {\n",
       "        vertical-align: middle;\n",
       "    }\n",
       "\n",
       "    .dataframe tbody tr th {\n",
       "        vertical-align: top;\n",
       "    }\n",
       "\n",
       "    .dataframe thead th {\n",
       "        text-align: right;\n",
       "    }\n",
       "</style>\n",
       "<table border=\"1\" class=\"dataframe\">\n",
       "  <thead>\n",
       "    <tr style=\"text-align: right;\">\n",
       "      <th></th>\n",
       "      <th>age</th>\n",
       "      <th>workclass</th>\n",
       "      <th>fnlwgt</th>\n",
       "      <th>education</th>\n",
       "      <th>education.num</th>\n",
       "      <th>marital.status</th>\n",
       "      <th>occupation</th>\n",
       "      <th>relationship</th>\n",
       "      <th>race</th>\n",
       "      <th>sex</th>\n",
       "      <th>capital.gain</th>\n",
       "      <th>capital.loss</th>\n",
       "      <th>hours.per.week</th>\n",
       "      <th>native.country</th>\n",
       "    </tr>\n",
       "    <tr>\n",
       "      <th>Id</th>\n",
       "      <th></th>\n",
       "      <th></th>\n",
       "      <th></th>\n",
       "      <th></th>\n",
       "      <th></th>\n",
       "      <th></th>\n",
       "      <th></th>\n",
       "      <th></th>\n",
       "      <th></th>\n",
       "      <th></th>\n",
       "      <th></th>\n",
       "      <th></th>\n",
       "      <th></th>\n",
       "      <th></th>\n",
       "    </tr>\n",
       "  </thead>\n",
       "  <tbody>\n",
       "    <tr>\n",
       "      <th>16275</th>\n",
       "      <td>40</td>\n",
       "      <td>Private</td>\n",
       "      <td>168113</td>\n",
       "      <td>HS-grad</td>\n",
       "      <td>9</td>\n",
       "      <td>Married-civ-spouse</td>\n",
       "      <td>Craft-repair</td>\n",
       "      <td>Husband</td>\n",
       "      <td>White</td>\n",
       "      <td>Male</td>\n",
       "      <td>0</td>\n",
       "      <td>0</td>\n",
       "      <td>40</td>\n",
       "      <td>United-States</td>\n",
       "    </tr>\n",
       "    <tr>\n",
       "      <th>16276</th>\n",
       "      <td>30</td>\n",
       "      <td>Local-gov</td>\n",
       "      <td>327203</td>\n",
       "      <td>HS-grad</td>\n",
       "      <td>9</td>\n",
       "      <td>Married-civ-spouse</td>\n",
       "      <td>Other-service</td>\n",
       "      <td>Husband</td>\n",
       "      <td>White</td>\n",
       "      <td>Male</td>\n",
       "      <td>0</td>\n",
       "      <td>0</td>\n",
       "      <td>40</td>\n",
       "      <td>United-States</td>\n",
       "    </tr>\n",
       "    <tr>\n",
       "      <th>16277</th>\n",
       "      <td>25</td>\n",
       "      <td>Private</td>\n",
       "      <td>116358</td>\n",
       "      <td>HS-grad</td>\n",
       "      <td>9</td>\n",
       "      <td>Never-married</td>\n",
       "      <td>Adm-clerical</td>\n",
       "      <td>Own-child</td>\n",
       "      <td>Asian-Pac-Islander</td>\n",
       "      <td>Male</td>\n",
       "      <td>0</td>\n",
       "      <td>0</td>\n",
       "      <td>40</td>\n",
       "      <td>Philippines</td>\n",
       "    </tr>\n",
       "    <tr>\n",
       "      <th>16278</th>\n",
       "      <td>60</td>\n",
       "      <td>Private</td>\n",
       "      <td>39263</td>\n",
       "      <td>Masters</td>\n",
       "      <td>14</td>\n",
       "      <td>Never-married</td>\n",
       "      <td>Exec-managerial</td>\n",
       "      <td>Not-in-family</td>\n",
       "      <td>White</td>\n",
       "      <td>Female</td>\n",
       "      <td>3325</td>\n",
       "      <td>0</td>\n",
       "      <td>35</td>\n",
       "      <td>United-States</td>\n",
       "    </tr>\n",
       "    <tr>\n",
       "      <th>16279</th>\n",
       "      <td>49</td>\n",
       "      <td>Private</td>\n",
       "      <td>182862</td>\n",
       "      <td>Some-college</td>\n",
       "      <td>10</td>\n",
       "      <td>Married-civ-spouse</td>\n",
       "      <td>Craft-repair</td>\n",
       "      <td>Husband</td>\n",
       "      <td>White</td>\n",
       "      <td>Male</td>\n",
       "      <td>7688</td>\n",
       "      <td>0</td>\n",
       "      <td>40</td>\n",
       "      <td>United-States</td>\n",
       "    </tr>\n",
       "  </tbody>\n",
       "</table>\n",
       "</div>"
      ],
      "text/plain": [
       "       age  workclass  fnlwgt     education  education.num  \\\n",
       "Id                                                           \n",
       "16275   40    Private  168113       HS-grad              9   \n",
       "16276   30  Local-gov  327203       HS-grad              9   \n",
       "16277   25    Private  116358       HS-grad              9   \n",
       "16278   60    Private   39263       Masters             14   \n",
       "16279   49    Private  182862  Some-college             10   \n",
       "\n",
       "           marital.status       occupation   relationship                race  \\\n",
       "Id                                                                              \n",
       "16275  Married-civ-spouse     Craft-repair        Husband               White   \n",
       "16276  Married-civ-spouse    Other-service        Husband               White   \n",
       "16277       Never-married     Adm-clerical      Own-child  Asian-Pac-Islander   \n",
       "16278       Never-married  Exec-managerial  Not-in-family               White   \n",
       "16279  Married-civ-spouse     Craft-repair        Husband               White   \n",
       "\n",
       "          sex  capital.gain  capital.loss  hours.per.week native.country  \n",
       "Id                                                                        \n",
       "16275    Male             0             0              40  United-States  \n",
       "16276    Male             0             0              40  United-States  \n",
       "16277    Male             0             0              40    Philippines  \n",
       "16278  Female          3325             0              35  United-States  \n",
       "16279    Male          7688             0              40  United-States  "
      ]
     },
     "execution_count": 7,
     "metadata": {},
     "output_type": "execute_result"
    }
   ],
   "source": [
    "adult_test.tail()"
   ]
  },
  {
   "cell_type": "code",
   "execution_count": 8,
   "id": "64ac1084",
   "metadata": {
    "execution": {
     "iopub.execute_input": "2021-10-06T14:57:32.918643Z",
     "iopub.status.busy": "2021-10-06T14:57:32.917830Z",
     "iopub.status.idle": "2021-10-06T14:57:32.921229Z",
     "shell.execute_reply": "2021-10-06T14:57:32.921703Z",
     "shell.execute_reply.started": "2021-10-06T14:56:33.730404Z"
    },
    "papermill": {
     "duration": 0.064482,
     "end_time": "2021-10-06T14:57:32.921869",
     "exception": false,
     "start_time": "2021-10-06T14:57:32.857387",
     "status": "completed"
    },
    "tags": []
   },
   "outputs": [
    {
     "data": {
      "text/html": [
       "<div>\n",
       "<style scoped>\n",
       "    .dataframe tbody tr th:only-of-type {\n",
       "        vertical-align: middle;\n",
       "    }\n",
       "\n",
       "    .dataframe tbody tr th {\n",
       "        vertical-align: top;\n",
       "    }\n",
       "\n",
       "    .dataframe thead th {\n",
       "        text-align: right;\n",
       "    }\n",
       "</style>\n",
       "<table border=\"1\" class=\"dataframe\">\n",
       "  <thead>\n",
       "    <tr style=\"text-align: right;\">\n",
       "      <th></th>\n",
       "      <th>age</th>\n",
       "      <th>workclass</th>\n",
       "      <th>fnlwgt</th>\n",
       "      <th>education</th>\n",
       "      <th>education.num</th>\n",
       "      <th>marital.status</th>\n",
       "      <th>occupation</th>\n",
       "      <th>relationship</th>\n",
       "      <th>race</th>\n",
       "      <th>sex</th>\n",
       "      <th>capital.gain</th>\n",
       "      <th>capital.loss</th>\n",
       "      <th>hours.per.week</th>\n",
       "      <th>native.country</th>\n",
       "      <th>income</th>\n",
       "    </tr>\n",
       "    <tr>\n",
       "      <th>Id</th>\n",
       "      <th></th>\n",
       "      <th></th>\n",
       "      <th></th>\n",
       "      <th></th>\n",
       "      <th></th>\n",
       "      <th></th>\n",
       "      <th></th>\n",
       "      <th></th>\n",
       "      <th></th>\n",
       "      <th></th>\n",
       "      <th></th>\n",
       "      <th></th>\n",
       "      <th></th>\n",
       "      <th></th>\n",
       "      <th></th>\n",
       "    </tr>\n",
       "  </thead>\n",
       "  <tbody>\n",
       "    <tr>\n",
       "      <th>48835</th>\n",
       "      <td>42</td>\n",
       "      <td>Private</td>\n",
       "      <td>384236</td>\n",
       "      <td>Masters</td>\n",
       "      <td>14</td>\n",
       "      <td>Married-civ-spouse</td>\n",
       "      <td>Prof-specialty</td>\n",
       "      <td>Husband</td>\n",
       "      <td>White</td>\n",
       "      <td>Male</td>\n",
       "      <td>7688</td>\n",
       "      <td>0</td>\n",
       "      <td>40</td>\n",
       "      <td>United-States</td>\n",
       "      <td>&gt;50K</td>\n",
       "    </tr>\n",
       "    <tr>\n",
       "      <th>48836</th>\n",
       "      <td>23</td>\n",
       "      <td>Private</td>\n",
       "      <td>129042</td>\n",
       "      <td>HS-grad</td>\n",
       "      <td>9</td>\n",
       "      <td>Never-married</td>\n",
       "      <td>Machine-op-inspct</td>\n",
       "      <td>Unmarried</td>\n",
       "      <td>Black</td>\n",
       "      <td>Female</td>\n",
       "      <td>0</td>\n",
       "      <td>0</td>\n",
       "      <td>40</td>\n",
       "      <td>United-States</td>\n",
       "      <td>&lt;=50K</td>\n",
       "    </tr>\n",
       "    <tr>\n",
       "      <th>48837</th>\n",
       "      <td>30</td>\n",
       "      <td>Private</td>\n",
       "      <td>195488</td>\n",
       "      <td>HS-grad</td>\n",
       "      <td>9</td>\n",
       "      <td>Never-married</td>\n",
       "      <td>Priv-house-serv</td>\n",
       "      <td>Own-child</td>\n",
       "      <td>White</td>\n",
       "      <td>Female</td>\n",
       "      <td>0</td>\n",
       "      <td>0</td>\n",
       "      <td>40</td>\n",
       "      <td>Guatemala</td>\n",
       "      <td>&lt;=50K</td>\n",
       "    </tr>\n",
       "    <tr>\n",
       "      <th>48838</th>\n",
       "      <td>18</td>\n",
       "      <td>Private</td>\n",
       "      <td>27620</td>\n",
       "      <td>HS-grad</td>\n",
       "      <td>9</td>\n",
       "      <td>Never-married</td>\n",
       "      <td>Adm-clerical</td>\n",
       "      <td>Not-in-family</td>\n",
       "      <td>White</td>\n",
       "      <td>Female</td>\n",
       "      <td>0</td>\n",
       "      <td>0</td>\n",
       "      <td>25</td>\n",
       "      <td>United-States</td>\n",
       "      <td>&lt;=50K</td>\n",
       "    </tr>\n",
       "    <tr>\n",
       "      <th>48839</th>\n",
       "      <td>47</td>\n",
       "      <td>Local-gov</td>\n",
       "      <td>203067</td>\n",
       "      <td>Bachelors</td>\n",
       "      <td>13</td>\n",
       "      <td>Divorced</td>\n",
       "      <td>Prof-specialty</td>\n",
       "      <td>Not-in-family</td>\n",
       "      <td>White</td>\n",
       "      <td>Male</td>\n",
       "      <td>0</td>\n",
       "      <td>0</td>\n",
       "      <td>50</td>\n",
       "      <td>United-States</td>\n",
       "      <td>&lt;=50K</td>\n",
       "    </tr>\n",
       "  </tbody>\n",
       "</table>\n",
       "</div>"
      ],
      "text/plain": [
       "       age  workclass  fnlwgt  education  education.num      marital.status  \\\n",
       "Id                                                                            \n",
       "48835   42    Private  384236    Masters             14  Married-civ-spouse   \n",
       "48836   23    Private  129042    HS-grad              9       Never-married   \n",
       "48837   30    Private  195488    HS-grad              9       Never-married   \n",
       "48838   18    Private   27620    HS-grad              9       Never-married   \n",
       "48839   47  Local-gov  203067  Bachelors             13            Divorced   \n",
       "\n",
       "              occupation   relationship   race     sex  capital.gain  \\\n",
       "Id                                                                     \n",
       "48835     Prof-specialty        Husband  White    Male          7688   \n",
       "48836  Machine-op-inspct      Unmarried  Black  Female             0   \n",
       "48837    Priv-house-serv      Own-child  White  Female             0   \n",
       "48838       Adm-clerical  Not-in-family  White  Female             0   \n",
       "48839     Prof-specialty  Not-in-family  White    Male             0   \n",
       "\n",
       "       capital.loss  hours.per.week native.country income  \n",
       "Id                                                         \n",
       "48835             0              40  United-States   >50K  \n",
       "48836             0              40  United-States  <=50K  \n",
       "48837             0              40      Guatemala  <=50K  \n",
       "48838             0              25  United-States  <=50K  \n",
       "48839             0              50  United-States  <=50K  "
      ]
     },
     "execution_count": 8,
     "metadata": {},
     "output_type": "execute_result"
    }
   ],
   "source": [
    "#Mostra o final da base de dados\n",
    "adult_train.tail()"
   ]
  },
  {
   "cell_type": "code",
   "execution_count": 9,
   "id": "5e3fb4db",
   "metadata": {
    "execution": {
     "iopub.execute_input": "2021-10-06T14:57:33.025241Z",
     "iopub.status.busy": "2021-10-06T14:57:33.017347Z",
     "iopub.status.idle": "2021-10-06T14:57:33.030197Z",
     "shell.execute_reply": "2021-10-06T14:57:33.029580Z",
     "shell.execute_reply.started": "2021-10-06T14:56:33.757477Z"
    },
    "papermill": {
     "duration": 0.062853,
     "end_time": "2021-10-06T14:57:33.030350",
     "exception": false,
     "start_time": "2021-10-06T14:57:32.967497",
     "status": "completed"
    },
    "tags": []
   },
   "outputs": [],
   "source": [
    "# Mudando a feature income para melhor tratamento\n",
    "# <=50k = 0, >50k = 1\n",
    "\n",
    "\n",
    "adult_train [\"income\"] = np.where(adult_train[\"income\"] == \"<=50K\", 0, 1)"
   ]
  },
  {
   "cell_type": "code",
   "execution_count": 10,
   "id": "19f3c059",
   "metadata": {
    "execution": {
     "iopub.execute_input": "2021-10-06T14:57:33.131227Z",
     "iopub.status.busy": "2021-10-06T14:57:33.123402Z",
     "iopub.status.idle": "2021-10-06T14:57:33.141992Z",
     "shell.execute_reply": "2021-10-06T14:57:33.142484Z",
     "shell.execute_reply.started": "2021-10-06T14:56:33.774184Z"
    },
    "papermill": {
     "duration": 0.067283,
     "end_time": "2021-10-06T14:57:33.142682",
     "exception": false,
     "start_time": "2021-10-06T14:57:33.075399",
     "status": "completed"
    },
    "tags": []
   },
   "outputs": [
    {
     "data": {
      "text/html": [
       "<div>\n",
       "<style scoped>\n",
       "    .dataframe tbody tr th:only-of-type {\n",
       "        vertical-align: middle;\n",
       "    }\n",
       "\n",
       "    .dataframe tbody tr th {\n",
       "        vertical-align: top;\n",
       "    }\n",
       "\n",
       "    .dataframe thead th {\n",
       "        text-align: right;\n",
       "    }\n",
       "</style>\n",
       "<table border=\"1\" class=\"dataframe\">\n",
       "  <thead>\n",
       "    <tr style=\"text-align: right;\">\n",
       "      <th></th>\n",
       "      <th>age</th>\n",
       "      <th>workclass</th>\n",
       "      <th>fnlwgt</th>\n",
       "      <th>education</th>\n",
       "      <th>education.num</th>\n",
       "      <th>marital.status</th>\n",
       "      <th>occupation</th>\n",
       "      <th>relationship</th>\n",
       "      <th>race</th>\n",
       "      <th>sex</th>\n",
       "      <th>capital.gain</th>\n",
       "      <th>capital.loss</th>\n",
       "      <th>hours.per.week</th>\n",
       "      <th>native.country</th>\n",
       "      <th>income</th>\n",
       "    </tr>\n",
       "    <tr>\n",
       "      <th>Id</th>\n",
       "      <th></th>\n",
       "      <th></th>\n",
       "      <th></th>\n",
       "      <th></th>\n",
       "      <th></th>\n",
       "      <th></th>\n",
       "      <th></th>\n",
       "      <th></th>\n",
       "      <th></th>\n",
       "      <th></th>\n",
       "      <th></th>\n",
       "      <th></th>\n",
       "      <th></th>\n",
       "      <th></th>\n",
       "      <th></th>\n",
       "    </tr>\n",
       "  </thead>\n",
       "  <tbody>\n",
       "    <tr>\n",
       "      <th>16280</th>\n",
       "      <td>34</td>\n",
       "      <td>Private</td>\n",
       "      <td>204991</td>\n",
       "      <td>Some-college</td>\n",
       "      <td>10</td>\n",
       "      <td>Divorced</td>\n",
       "      <td>Exec-managerial</td>\n",
       "      <td>Own-child</td>\n",
       "      <td>White</td>\n",
       "      <td>Male</td>\n",
       "      <td>0</td>\n",
       "      <td>0</td>\n",
       "      <td>44</td>\n",
       "      <td>United-States</td>\n",
       "      <td>0</td>\n",
       "    </tr>\n",
       "    <tr>\n",
       "      <th>16281</th>\n",
       "      <td>58</td>\n",
       "      <td>Local-gov</td>\n",
       "      <td>310085</td>\n",
       "      <td>10th</td>\n",
       "      <td>6</td>\n",
       "      <td>Married-civ-spouse</td>\n",
       "      <td>Transport-moving</td>\n",
       "      <td>Husband</td>\n",
       "      <td>White</td>\n",
       "      <td>Male</td>\n",
       "      <td>0</td>\n",
       "      <td>0</td>\n",
       "      <td>40</td>\n",
       "      <td>United-States</td>\n",
       "      <td>0</td>\n",
       "    </tr>\n",
       "    <tr>\n",
       "      <th>16282</th>\n",
       "      <td>25</td>\n",
       "      <td>Private</td>\n",
       "      <td>146117</td>\n",
       "      <td>Some-college</td>\n",
       "      <td>10</td>\n",
       "      <td>Never-married</td>\n",
       "      <td>Machine-op-inspct</td>\n",
       "      <td>Not-in-family</td>\n",
       "      <td>White</td>\n",
       "      <td>Male</td>\n",
       "      <td>0</td>\n",
       "      <td>0</td>\n",
       "      <td>42</td>\n",
       "      <td>United-States</td>\n",
       "      <td>0</td>\n",
       "    </tr>\n",
       "    <tr>\n",
       "      <th>16283</th>\n",
       "      <td>24</td>\n",
       "      <td>Private</td>\n",
       "      <td>138938</td>\n",
       "      <td>Some-college</td>\n",
       "      <td>10</td>\n",
       "      <td>Divorced</td>\n",
       "      <td>Adm-clerical</td>\n",
       "      <td>Not-in-family</td>\n",
       "      <td>White</td>\n",
       "      <td>Female</td>\n",
       "      <td>0</td>\n",
       "      <td>0</td>\n",
       "      <td>40</td>\n",
       "      <td>United-States</td>\n",
       "      <td>0</td>\n",
       "    </tr>\n",
       "    <tr>\n",
       "      <th>16284</th>\n",
       "      <td>57</td>\n",
       "      <td>Self-emp-inc</td>\n",
       "      <td>258883</td>\n",
       "      <td>HS-grad</td>\n",
       "      <td>9</td>\n",
       "      <td>Married-civ-spouse</td>\n",
       "      <td>Transport-moving</td>\n",
       "      <td>Husband</td>\n",
       "      <td>White</td>\n",
       "      <td>Male</td>\n",
       "      <td>5178</td>\n",
       "      <td>0</td>\n",
       "      <td>60</td>\n",
       "      <td>Hungary</td>\n",
       "      <td>1</td>\n",
       "    </tr>\n",
       "  </tbody>\n",
       "</table>\n",
       "</div>"
      ],
      "text/plain": [
       "       age     workclass  fnlwgt     education  education.num  \\\n",
       "Id                                                              \n",
       "16280   34       Private  204991  Some-college             10   \n",
       "16281   58     Local-gov  310085          10th              6   \n",
       "16282   25       Private  146117  Some-college             10   \n",
       "16283   24       Private  138938  Some-college             10   \n",
       "16284   57  Self-emp-inc  258883       HS-grad              9   \n",
       "\n",
       "           marital.status         occupation   relationship   race     sex  \\\n",
       "Id                                                                           \n",
       "16280            Divorced    Exec-managerial      Own-child  White    Male   \n",
       "16281  Married-civ-spouse   Transport-moving        Husband  White    Male   \n",
       "16282       Never-married  Machine-op-inspct  Not-in-family  White    Male   \n",
       "16283            Divorced       Adm-clerical  Not-in-family  White  Female   \n",
       "16284  Married-civ-spouse   Transport-moving        Husband  White    Male   \n",
       "\n",
       "       capital.gain  capital.loss  hours.per.week native.country  income  \n",
       "Id                                                                        \n",
       "16280             0             0              44  United-States       0  \n",
       "16281             0             0              40  United-States       0  \n",
       "16282             0             0              42  United-States       0  \n",
       "16283             0             0              40  United-States       0  \n",
       "16284          5178             0              60        Hungary       1  "
      ]
     },
     "execution_count": 10,
     "metadata": {},
     "output_type": "execute_result"
    }
   ],
   "source": [
    "#Verificando a mudança\n",
    "adult_train.head()"
   ]
  },
  {
   "cell_type": "markdown",
   "id": "2960670b",
   "metadata": {
    "papermill": {
     "duration": 0.044411,
     "end_time": "2021-10-06T14:57:33.231583",
     "exception": false,
     "start_time": "2021-10-06T14:57:33.187172",
     "status": "completed"
    },
    "tags": []
   },
   "source": [
    "## Verificação de dados faltantes"
   ]
  },
  {
   "cell_type": "code",
   "execution_count": 11,
   "id": "851ee64f",
   "metadata": {
    "execution": {
     "iopub.execute_input": "2021-10-06T14:57:33.353803Z",
     "iopub.status.busy": "2021-10-06T14:57:33.353177Z",
     "iopub.status.idle": "2021-10-06T14:57:33.364483Z",
     "shell.execute_reply": "2021-10-06T14:57:33.363956Z",
     "shell.execute_reply.started": "2021-10-06T14:56:33.798118Z"
    },
    "papermill": {
     "duration": 0.088207,
     "end_time": "2021-10-06T14:57:33.364625",
     "exception": false,
     "start_time": "2021-10-06T14:57:33.276418",
     "status": "completed"
    },
    "tags": []
   },
   "outputs": [
    {
     "data": {
      "text/plain": [
       "age                  0\n",
       "workclass         1836\n",
       "fnlwgt               0\n",
       "education            0\n",
       "education.num        0\n",
       "marital.status       0\n",
       "occupation        1843\n",
       "relationship         0\n",
       "race                 0\n",
       "sex                  0\n",
       "capital.gain         0\n",
       "capital.loss         0\n",
       "hours.per.week       0\n",
       "native.country     583\n",
       "income               0\n",
       "dtype: int64"
      ]
     },
     "execution_count": 11,
     "metadata": {},
     "output_type": "execute_result"
    }
   ],
   "source": [
    "adult_train.isnull().sum()"
   ]
  },
  {
   "cell_type": "code",
   "execution_count": 12,
   "id": "b186550d",
   "metadata": {
    "execution": {
     "iopub.execute_input": "2021-10-06T14:57:33.474433Z",
     "iopub.status.busy": "2021-10-06T14:57:33.473765Z",
     "iopub.status.idle": "2021-10-06T14:57:33.479986Z",
     "shell.execute_reply": "2021-10-06T14:57:33.480481Z",
     "shell.execute_reply.started": "2021-10-06T14:56:33.846193Z"
    },
    "papermill": {
     "duration": 0.070937,
     "end_time": "2021-10-06T14:57:33.480647",
     "exception": false,
     "start_time": "2021-10-06T14:57:33.409710",
     "status": "completed"
    },
    "tags": []
   },
   "outputs": [
    {
     "data": {
      "text/plain": [
       "age                 0\n",
       "workclass         963\n",
       "fnlwgt              0\n",
       "education           0\n",
       "education.num       0\n",
       "marital.status      0\n",
       "occupation        966\n",
       "relationship        0\n",
       "race                0\n",
       "sex                 0\n",
       "capital.gain        0\n",
       "capital.loss        0\n",
       "hours.per.week      0\n",
       "native.country    274\n",
       "dtype: int64"
      ]
     },
     "execution_count": 12,
     "metadata": {},
     "output_type": "execute_result"
    }
   ],
   "source": [
    "adult_test.isnull().sum()"
   ]
  },
  {
   "cell_type": "markdown",
   "id": "61a83d48",
   "metadata": {
    "papermill": {
     "duration": 0.045359,
     "end_time": "2021-10-06T14:57:33.571146",
     "exception": false,
     "start_time": "2021-10-06T14:57:33.525787",
     "status": "completed"
    },
    "tags": []
   },
   "source": [
    "Retirando dados faltantes"
   ]
  },
  {
   "cell_type": "markdown",
   "id": "e78436a8",
   "metadata": {
    "papermill": {
     "duration": 0.045006,
     "end_time": "2021-10-06T14:57:33.661507",
     "exception": false,
     "start_time": "2021-10-06T14:57:33.616501",
     "status": "completed"
    },
    "tags": []
   },
   "source": [
    "## Análise exploratória dos dados"
   ]
  },
  {
   "cell_type": "markdown",
   "id": "9d266175",
   "metadata": {
    "papermill": {
     "duration": 0.045251,
     "end_time": "2021-10-06T14:57:33.752201",
     "exception": false,
     "start_time": "2021-10-06T14:57:33.706950",
     "status": "completed"
    },
    "tags": []
   },
   "source": [
    "Gráfico de correlação para analisar a relação entre as features"
   ]
  },
  {
   "cell_type": "code",
   "execution_count": 13,
   "id": "a94d0404",
   "metadata": {
    "execution": {
     "iopub.execute_input": "2021-10-06T14:57:33.847164Z",
     "iopub.status.busy": "2021-10-06T14:57:33.846510Z",
     "iopub.status.idle": "2021-10-06T14:57:34.377788Z",
     "shell.execute_reply": "2021-10-06T14:57:34.378357Z",
     "shell.execute_reply.started": "2021-10-06T14:56:33.874542Z"
    },
    "papermill": {
     "duration": 0.581083,
     "end_time": "2021-10-06T14:57:34.378561",
     "exception": false,
     "start_time": "2021-10-06T14:57:33.797478",
     "status": "completed"
    },
    "tags": []
   },
   "outputs": [
    {
     "data": {
      "image/png": "[encoded data removed]",
      "text/plain": [
       "<Figure size 1440x720 with 2 Axes>"
      ]
     },
     "metadata": {
      "needs_background": "light"
     },
     "output_type": "display_data"
    }
   ],
   "source": [
    "plt.figure(figsize = (20,10))\n",
    "sns.heatmap(adult_train.corr(), cmap='BuPu', annot = True, fmt = '.2f')\n",
    "plt.show()"
   ]
  },
  {
   "cell_type": "markdown",
   "id": "fe1f733f",
   "metadata": {
    "papermill": {
     "duration": 0.046562,
     "end_time": "2021-10-06T14:57:34.472932",
     "exception": false,
     "start_time": "2021-10-06T14:57:34.426370",
     "status": "completed"
    },
    "tags": []
   },
   "source": [
    "Nota-se que a coluna \"fnlwgt\" não possui uma relação boa com income, dentre as variáveis numéricas, portanto, ela será retirada"
   ]
  },
  {
   "cell_type": "code",
   "execution_count": 14,
   "id": "332a1683",
   "metadata": {
    "execution": {
     "iopub.execute_input": "2021-10-06T14:57:34.574313Z",
     "iopub.status.busy": "2021-10-06T14:57:34.573579Z",
     "iopub.status.idle": "2021-10-06T14:57:34.582841Z",
     "shell.execute_reply": "2021-10-06T14:57:34.582217Z",
     "shell.execute_reply.started": "2021-10-06T14:56:34.422356Z"
    },
    "papermill": {
     "duration": 0.062115,
     "end_time": "2021-10-06T14:57:34.582998",
     "exception": false,
     "start_time": "2021-10-06T14:57:34.520883",
     "status": "completed"
    },
    "tags": []
   },
   "outputs": [],
   "source": [
    "# Retirando a coluna\n",
    "adult_train.drop('fnlwgt', axis = 1, inplace = True)"
   ]
  },
  {
   "cell_type": "code",
   "execution_count": 15,
   "id": "a0becd72",
   "metadata": {
    "execution": {
     "iopub.execute_input": "2021-10-06T14:57:34.683028Z",
     "iopub.status.busy": "2021-10-06T14:57:34.682117Z",
     "iopub.status.idle": "2021-10-06T14:57:34.700727Z",
     "shell.execute_reply": "2021-10-06T14:57:34.700220Z",
     "shell.execute_reply.started": "2021-10-06T14:56:34.436730Z"
    },
    "papermill": {
     "duration": 0.070081,
     "end_time": "2021-10-06T14:57:34.700877",
     "exception": false,
     "start_time": "2021-10-06T14:57:34.630796",
     "status": "completed"
    },
    "tags": []
   },
   "outputs": [
    {
     "data": {
      "text/html": [
       "<div>\n",
       "<style scoped>\n",
       "    .dataframe tbody tr th:only-of-type {\n",
       "        vertical-align: middle;\n",
       "    }\n",
       "\n",
       "    .dataframe tbody tr th {\n",
       "        vertical-align: top;\n",
       "    }\n",
       "\n",
       "    .dataframe thead th {\n",
       "        text-align: right;\n",
       "    }\n",
       "</style>\n",
       "<table border=\"1\" class=\"dataframe\">\n",
       "  <thead>\n",
       "    <tr style=\"text-align: right;\">\n",
       "      <th></th>\n",
       "      <th>age</th>\n",
       "      <th>workclass</th>\n",
       "      <th>education</th>\n",
       "      <th>education.num</th>\n",
       "      <th>marital.status</th>\n",
       "      <th>occupation</th>\n",
       "      <th>relationship</th>\n",
       "      <th>race</th>\n",
       "      <th>sex</th>\n",
       "      <th>capital.gain</th>\n",
       "      <th>capital.loss</th>\n",
       "      <th>hours.per.week</th>\n",
       "      <th>native.country</th>\n",
       "      <th>income</th>\n",
       "    </tr>\n",
       "    <tr>\n",
       "      <th>Id</th>\n",
       "      <th></th>\n",
       "      <th></th>\n",
       "      <th></th>\n",
       "      <th></th>\n",
       "      <th></th>\n",
       "      <th></th>\n",
       "      <th></th>\n",
       "      <th></th>\n",
       "      <th></th>\n",
       "      <th></th>\n",
       "      <th></th>\n",
       "      <th></th>\n",
       "      <th></th>\n",
       "      <th></th>\n",
       "    </tr>\n",
       "  </thead>\n",
       "  <tbody>\n",
       "    <tr>\n",
       "      <th>16280</th>\n",
       "      <td>34</td>\n",
       "      <td>Private</td>\n",
       "      <td>Some-college</td>\n",
       "      <td>10</td>\n",
       "      <td>Divorced</td>\n",
       "      <td>Exec-managerial</td>\n",
       "      <td>Own-child</td>\n",
       "      <td>White</td>\n",
       "      <td>Male</td>\n",
       "      <td>0</td>\n",
       "      <td>0</td>\n",
       "      <td>44</td>\n",
       "      <td>United-States</td>\n",
       "      <td>0</td>\n",
       "    </tr>\n",
       "    <tr>\n",
       "      <th>16281</th>\n",
       "      <td>58</td>\n",
       "      <td>Local-gov</td>\n",
       "      <td>10th</td>\n",
       "      <td>6</td>\n",
       "      <td>Married-civ-spouse</td>\n",
       "      <td>Transport-moving</td>\n",
       "      <td>Husband</td>\n",
       "      <td>White</td>\n",
       "      <td>Male</td>\n",
       "      <td>0</td>\n",
       "      <td>0</td>\n",
       "      <td>40</td>\n",
       "      <td>United-States</td>\n",
       "      <td>0</td>\n",
       "    </tr>\n",
       "    <tr>\n",
       "      <th>16282</th>\n",
       "      <td>25</td>\n",
       "      <td>Private</td>\n",
       "      <td>Some-college</td>\n",
       "      <td>10</td>\n",
       "      <td>Never-married</td>\n",
       "      <td>Machine-op-inspct</td>\n",
       "      <td>Not-in-family</td>\n",
       "      <td>White</td>\n",
       "      <td>Male</td>\n",
       "      <td>0</td>\n",
       "      <td>0</td>\n",
       "      <td>42</td>\n",
       "      <td>United-States</td>\n",
       "      <td>0</td>\n",
       "    </tr>\n",
       "    <tr>\n",
       "      <th>16283</th>\n",
       "      <td>24</td>\n",
       "      <td>Private</td>\n",
       "      <td>Some-college</td>\n",
       "      <td>10</td>\n",
       "      <td>Divorced</td>\n",
       "      <td>Adm-clerical</td>\n",
       "      <td>Not-in-family</td>\n",
       "      <td>White</td>\n",
       "      <td>Female</td>\n",
       "      <td>0</td>\n",
       "      <td>0</td>\n",
       "      <td>40</td>\n",
       "      <td>United-States</td>\n",
       "      <td>0</td>\n",
       "    </tr>\n",
       "    <tr>\n",
       "      <th>16284</th>\n",
       "      <td>57</td>\n",
       "      <td>Self-emp-inc</td>\n",
       "      <td>HS-grad</td>\n",
       "      <td>9</td>\n",
       "      <td>Married-civ-spouse</td>\n",
       "      <td>Transport-moving</td>\n",
       "      <td>Husband</td>\n",
       "      <td>White</td>\n",
       "      <td>Male</td>\n",
       "      <td>5178</td>\n",
       "      <td>0</td>\n",
       "      <td>60</td>\n",
       "      <td>Hungary</td>\n",
       "      <td>1</td>\n",
       "    </tr>\n",
       "  </tbody>\n",
       "</table>\n",
       "</div>"
      ],
      "text/plain": [
       "       age     workclass     education  education.num      marital.status  \\\n",
       "Id                                                                          \n",
       "16280   34       Private  Some-college             10            Divorced   \n",
       "16281   58     Local-gov          10th              6  Married-civ-spouse   \n",
       "16282   25       Private  Some-college             10       Never-married   \n",
       "16283   24       Private  Some-college             10            Divorced   \n",
       "16284   57  Self-emp-inc       HS-grad              9  Married-civ-spouse   \n",
       "\n",
       "              occupation   relationship   race     sex  capital.gain  \\\n",
       "Id                                                                     \n",
       "16280    Exec-managerial      Own-child  White    Male             0   \n",
       "16281   Transport-moving        Husband  White    Male             0   \n",
       "16282  Machine-op-inspct  Not-in-family  White    Male             0   \n",
       "16283       Adm-clerical  Not-in-family  White  Female             0   \n",
       "16284   Transport-moving        Husband  White    Male          5178   \n",
       "\n",
       "       capital.loss  hours.per.week native.country  income  \n",
       "Id                                                          \n",
       "16280             0              44  United-States       0  \n",
       "16281             0              40  United-States       0  \n",
       "16282             0              42  United-States       0  \n",
       "16283             0              40  United-States       0  \n",
       "16284             0              60        Hungary       1  "
      ]
     },
     "execution_count": 15,
     "metadata": {},
     "output_type": "execute_result"
    }
   ],
   "source": [
    "# Verificando a mudança\n",
    "adult_train.head()"
   ]
  },
  {
   "cell_type": "code",
   "execution_count": 16,
   "id": "784c730b",
   "metadata": {
    "execution": {
     "iopub.execute_input": "2021-10-06T14:57:34.806438Z",
     "iopub.status.busy": "2021-10-06T14:57:34.805588Z",
     "iopub.status.idle": "2021-10-06T14:57:34.807117Z",
     "shell.execute_reply": "2021-10-06T14:57:34.807594Z",
     "shell.execute_reply.started": "2021-10-06T14:56:34.465937Z"
    },
    "papermill": {
     "duration": 0.058947,
     "end_time": "2021-10-06T14:57:34.807771",
     "exception": false,
     "start_time": "2021-10-06T14:57:34.748824",
     "status": "completed"
    },
    "tags": []
   },
   "outputs": [],
   "source": [
    "adult_test.drop('fnlwgt', axis = 1, inplace = True)"
   ]
  },
  {
   "cell_type": "code",
   "execution_count": 17,
   "id": "419eafa8",
   "metadata": {
    "execution": {
     "iopub.execute_input": "2021-10-06T14:57:34.911132Z",
     "iopub.status.busy": "2021-10-06T14:57:34.907659Z",
     "iopub.status.idle": "2021-10-06T14:57:35.252221Z",
     "shell.execute_reply": "2021-10-06T14:57:35.251650Z",
     "shell.execute_reply.started": "2021-10-06T14:56:34.482902Z"
    },
    "papermill": {
     "duration": 0.395762,
     "end_time": "2021-10-06T14:57:35.252371",
     "exception": false,
     "start_time": "2021-10-06T14:57:34.856609",
     "status": "completed"
    },
    "tags": []
   },
   "outputs": [
    {
     "data": {
      "image/png": "[encoded data removed]",
      "text/plain": [
       "<Figure size 720x432 with 1 Axes>"
      ]
     },
     "metadata": {
      "needs_background": "light"
     },
     "output_type": "display_data"
    }
   ],
   "source": [
    "# Verifica o número de pessoas que possuem cada tipo de income\n",
    "_ = adult_train[\"income\"].value_counts().plot(kind = \"bar\", color = \"purple\")\n",
    "_ = plt.title(\"N° de pessoas por tipo de income\")"
   ]
  },
  {
   "cell_type": "markdown",
   "id": "02d0086a",
   "metadata": {
    "papermill": {
     "duration": 0.059092,
     "end_time": "2021-10-06T14:57:35.367660",
     "exception": false,
     "start_time": "2021-10-06T14:57:35.308568",
     "status": "completed"
    },
    "tags": []
   },
   "source": [
    "### Analisando relações entre algumas variáveis e o income"
   ]
  },
  {
   "cell_type": "code",
   "execution_count": 18,
   "id": "fc25d42f",
   "metadata": {
    "execution": {
     "iopub.execute_input": "2021-10-06T14:57:35.473560Z",
     "iopub.status.busy": "2021-10-06T14:57:35.472601Z",
     "iopub.status.idle": "2021-10-06T14:57:36.008374Z",
     "shell.execute_reply": "2021-10-06T14:57:36.008852Z",
     "shell.execute_reply.started": "2021-10-06T14:56:34.705752Z"
    },
    "papermill": {
     "duration": 0.58914,
     "end_time": "2021-10-06T14:57:36.009089",
     "exception": false,
     "start_time": "2021-10-06T14:57:35.419949",
     "status": "completed"
    },
    "tags": []
   },
   "outputs": [
    {
     "data": {
      "image/png": "[encoded data removed]",
      "text/plain": [
       "<Figure size 360x360 with 1 Axes>"
      ]
     },
     "metadata": {
      "needs_background": "light"
     },
     "output_type": "display_data"
    }
   ],
   "source": [
    "sns.catplot(y=\"age\", x=\"income\", kind=\"bar\", data= adult_train);"
   ]
  },
  {
   "cell_type": "code",
   "execution_count": 19,
   "id": "5c76d85a",
   "metadata": {
    "execution": {
     "iopub.execute_input": "2021-10-06T14:57:36.120153Z",
     "iopub.status.busy": "2021-10-06T14:57:36.119187Z",
     "iopub.status.idle": "2021-10-06T14:57:36.720014Z",
     "shell.execute_reply": "2021-10-06T14:57:36.719405Z",
     "shell.execute_reply.started": "2021-10-06T14:56:35.257445Z"
    },
    "papermill": {
     "duration": 0.658291,
     "end_time": "2021-10-06T14:57:36.720192",
     "exception": false,
     "start_time": "2021-10-06T14:57:36.061901",
     "status": "completed"
    },
    "tags": []
   },
   "outputs": [
    {
     "data": {
      "image/png": "[encoded data removed]",
      "text/plain": [
       "<Figure size 360x360 with 1 Axes>"
      ]
     },
     "metadata": {
      "needs_background": "light"
     },
     "output_type": "display_data"
    }
   ],
   "source": [
    "sns.catplot(y=\"sex\", x=\"income\", kind=\"bar\", data= adult_train);"
   ]
  },
  {
   "cell_type": "code",
   "execution_count": 20,
   "id": "2f7a56bc",
   "metadata": {
    "execution": {
     "iopub.execute_input": "2021-10-06T14:57:36.827683Z",
     "iopub.status.busy": "2021-10-06T14:57:36.826738Z",
     "iopub.status.idle": "2021-10-06T14:57:37.645598Z",
     "shell.execute_reply": "2021-10-06T14:57:37.646034Z",
     "shell.execute_reply.started": "2021-10-06T14:56:35.837271Z"
    },
    "papermill": {
     "duration": 0.87511,
     "end_time": "2021-10-06T14:57:37.646258",
     "exception": false,
     "start_time": "2021-10-06T14:57:36.771148",
     "status": "completed"
    },
    "tags": []
   },
   "outputs": [
    {
     "data": {
      "image/png": "[encoded data removed]",
      "text/plain": [
       "<Figure size 360x360 with 1 Axes>"
      ]
     },
     "metadata": {
      "needs_background": "light"
     },
     "output_type": "display_data"
    }
   ],
   "source": [
    "sns.catplot(y=\"workclass\", x=\"income\", kind=\"bar\", data= adult_train);"
   ]
  },
  {
   "cell_type": "code",
   "execution_count": 21,
   "id": "ad11bfe1",
   "metadata": {
    "execution": {
     "iopub.execute_input": "2021-10-06T14:57:37.750904Z",
     "iopub.status.busy": "2021-10-06T14:57:37.749944Z",
     "iopub.status.idle": "2021-10-06T14:57:38.925296Z",
     "shell.execute_reply": "2021-10-06T14:57:38.925773Z",
     "shell.execute_reply.started": "2021-10-06T14:56:36.678764Z"
    },
    "papermill": {
     "duration": 1.229442,
     "end_time": "2021-10-06T14:57:38.925948",
     "exception": false,
     "start_time": "2021-10-06T14:57:37.696506",
     "status": "completed"
    },
    "tags": []
   },
   "outputs": [
    {
     "data": {
      "image/png": "[encoded data removed]",
      "text/plain": [
       "<Figure size 360x360 with 1 Axes>"
      ]
     },
     "metadata": {
      "needs_background": "light"
     },
     "output_type": "display_data"
    }
   ],
   "source": [
    "sns.catplot(y=\"education\", x=\"income\", kind=\"bar\", data= adult_train);"
   ]
  },
  {
   "cell_type": "code",
   "execution_count": 22,
   "id": "21f26c1e",
   "metadata": {
    "execution": {
     "iopub.execute_input": "2021-10-06T14:57:39.047587Z",
     "iopub.status.busy": "2021-10-06T14:57:39.036161Z",
     "iopub.status.idle": "2021-10-06T14:57:39.872862Z",
     "shell.execute_reply": "2021-10-06T14:57:39.872332Z",
     "shell.execute_reply.started": "2021-10-06T14:56:37.886054Z"
    },
    "papermill": {
     "duration": 0.895548,
     "end_time": "2021-10-06T14:57:39.873005",
     "exception": false,
     "start_time": "2021-10-06T14:57:38.977457",
     "status": "completed"
    },
    "tags": []
   },
   "outputs": [
    {
     "data": {
      "image/png": "[encoded data removed]",
      "text/plain": [
       "<Figure size 360x360 with 1 Axes>"
      ]
     },
     "metadata": {
      "needs_background": "light"
     },
     "output_type": "display_data"
    }
   ],
   "source": [
    "sns.catplot(y=\"marital.status\", x=\"income\", kind=\"bar\", data= adult_train);"
   ]
  },
  {
   "cell_type": "code",
   "execution_count": 23,
   "id": "de2f254b",
   "metadata": {
    "execution": {
     "iopub.execute_input": "2021-10-06T14:57:39.985355Z",
     "iopub.status.busy": "2021-10-06T14:57:39.984439Z",
     "iopub.status.idle": "2021-10-06T14:57:41.058632Z",
     "shell.execute_reply": "2021-10-06T14:57:41.059105Z",
     "shell.execute_reply.started": "2021-10-06T14:56:38.714147Z"
    },
    "papermill": {
     "duration": 1.133908,
     "end_time": "2021-10-06T14:57:41.059285",
     "exception": false,
     "start_time": "2021-10-06T14:57:39.925377",
     "status": "completed"
    },
    "tags": []
   },
   "outputs": [
    {
     "data": {
      "image/png": "[encoded data removed]",
      "text/plain": [
       "<Figure size 360x360 with 1 Axes>"
      ]
     },
     "metadata": {
      "needs_background": "light"
     },
     "output_type": "display_data"
    }
   ],
   "source": [
    "sns.catplot(y=\"occupation\", x=\"income\", kind=\"bar\", data= adult_train);"
   ]
  },
  {
   "cell_type": "code",
   "execution_count": 24,
   "id": "c202301f",
   "metadata": {
    "execution": {
     "iopub.execute_input": "2021-10-06T14:57:41.176263Z",
     "iopub.status.busy": "2021-10-06T14:57:41.175323Z",
     "iopub.status.idle": "2021-10-06T14:57:41.911675Z",
     "shell.execute_reply": "2021-10-06T14:57:41.911041Z",
     "shell.execute_reply.started": "2021-10-06T14:56:39.827575Z"
    },
    "papermill": {
     "duration": 0.798515,
     "end_time": "2021-10-06T14:57:41.911827",
     "exception": false,
     "start_time": "2021-10-06T14:57:41.113312",
     "status": "completed"
    },
    "tags": []
   },
   "outputs": [
    {
     "data": {
      "image/png": "[encoded data removed]",
      "text/plain": [
       "<Figure size 360x360 with 1 Axes>"
      ]
     },
     "metadata": {
      "needs_background": "light"
     },
     "output_type": "display_data"
    }
   ],
   "source": [
    "sns.catplot(y=\"relationship\", x=\"income\", kind=\"bar\", data= adult_train);"
   ]
  },
  {
   "cell_type": "code",
   "execution_count": 25,
   "id": "3a303776",
   "metadata": {
    "execution": {
     "iopub.execute_input": "2021-10-06T14:57:42.026439Z",
     "iopub.status.busy": "2021-10-06T14:57:42.025817Z",
     "iopub.status.idle": "2021-10-06T14:57:42.735574Z",
     "shell.execute_reply": "2021-10-06T14:57:42.734921Z",
     "shell.execute_reply.started": "2021-10-06T14:56:40.845838Z"
    },
    "papermill": {
     "duration": 0.769522,
     "end_time": "2021-10-06T14:57:42.735711",
     "exception": false,
     "start_time": "2021-10-06T14:57:41.966189",
     "status": "completed"
    },
    "tags": []
   },
   "outputs": [
    {
     "data": {
      "image/png": "[encoded data removed]",
      "text/plain": [
       "<Figure size 360x360 with 1 Axes>"
      ]
     },
     "metadata": {
      "needs_background": "light"
     },
     "output_type": "display_data"
    }
   ],
   "source": [
    "sns.catplot(y=\"race\", x=\"income\", kind=\"bar\", data= adult_train);"
   ]
  },
  {
   "cell_type": "code",
   "execution_count": 26,
   "id": "361d09fe",
   "metadata": {
    "execution": {
     "iopub.execute_input": "2021-10-06T14:57:42.872064Z",
     "iopub.status.busy": "2021-10-06T14:57:42.871350Z",
     "iopub.status.idle": "2021-10-06T14:57:43.399473Z",
     "shell.execute_reply": "2021-10-06T14:57:43.399909Z",
     "shell.execute_reply.started": "2021-10-06T14:56:41.573668Z"
    },
    "papermill": {
     "duration": 0.595599,
     "end_time": "2021-10-06T14:57:43.400091",
     "exception": false,
     "start_time": "2021-10-06T14:57:42.804492",
     "status": "completed"
    },
    "tags": []
   },
   "outputs": [
    {
     "data": {
      "image/png": "[encoded data removed]",
      "text/plain": [
       "<Figure size 360x360 with 1 Axes>"
      ]
     },
     "metadata": {
      "needs_background": "light"
     },
     "output_type": "display_data"
    }
   ],
   "source": [
    "sns.catplot(y=\"hours.per.week\", x=\"income\", kind=\"bar\", data= adult_train);"
   ]
  },
  {
   "cell_type": "markdown",
   "id": "1e8b0079",
   "metadata": {
    "papermill": {
     "duration": 0.054854,
     "end_time": "2021-10-06T14:57:43.509917",
     "exception": false,
     "start_time": "2021-10-06T14:57:43.455063",
     "status": "completed"
    },
    "tags": []
   },
   "source": [
    "Tratando dados faltantes"
   ]
  },
  {
   "cell_type": "code",
   "execution_count": 27,
   "id": "7a7c2c6f",
   "metadata": {
    "execution": {
     "iopub.execute_input": "2021-10-06T14:57:43.623733Z",
     "iopub.status.busy": "2021-10-06T14:57:43.622703Z",
     "iopub.status.idle": "2021-10-06T14:57:43.675953Z",
     "shell.execute_reply": "2021-10-06T14:57:43.676482Z",
     "shell.execute_reply.started": "2021-10-06T14:56:42.149696Z"
    },
    "papermill": {
     "duration": 0.111864,
     "end_time": "2021-10-06T14:57:43.676645",
     "exception": false,
     "start_time": "2021-10-06T14:57:43.564781",
     "status": "completed"
    },
    "tags": []
   },
   "outputs": [],
   "source": [
    "nadult_train = adult_train.fillna(\"0\")\n",
    "nadult_test = adult_test.fillna(\"0\")"
   ]
  },
  {
   "cell_type": "code",
   "execution_count": 28,
   "id": "fe81ab3e",
   "metadata": {
    "execution": {
     "iopub.execute_input": "2021-10-06T14:57:43.790826Z",
     "iopub.status.busy": "2021-10-06T14:57:43.789844Z",
     "iopub.status.idle": "2021-10-06T14:57:43.828220Z",
     "shell.execute_reply": "2021-10-06T14:57:43.827720Z",
     "shell.execute_reply.started": "2021-10-06T14:56:42.205831Z"
    },
    "papermill": {
     "duration": 0.096721,
     "end_time": "2021-10-06T14:57:43.828359",
     "exception": false,
     "start_time": "2021-10-06T14:57:43.731638",
     "status": "completed"
    },
    "tags": []
   },
   "outputs": [
    {
     "data": {
      "text/plain": [
       "age               0\n",
       "workclass         0\n",
       "education         0\n",
       "education.num     0\n",
       "marital.status    0\n",
       "occupation        0\n",
       "relationship      0\n",
       "race              0\n",
       "sex               0\n",
       "capital.gain      0\n",
       "capital.loss      0\n",
       "hours.per.week    0\n",
       "native.country    0\n",
       "income            0\n",
       "dtype: int64"
      ]
     },
     "execution_count": 28,
     "metadata": {},
     "output_type": "execute_result"
    }
   ],
   "source": [
    "# Verificando a mudança\n",
    "nadult_train.isnull().sum()"
   ]
  },
  {
   "cell_type": "markdown",
   "id": "a9554fb9",
   "metadata": {
    "papermill": {
     "duration": 0.055718,
     "end_time": "2021-10-06T14:57:43.939198",
     "exception": false,
     "start_time": "2021-10-06T14:57:43.883480",
     "status": "completed"
    },
    "tags": []
   },
   "source": [
    "## Classificador"
   ]
  },
  {
   "cell_type": "markdown",
   "id": "d17fbf10",
   "metadata": {
    "papermill": {
     "duration": 0.057987,
     "end_time": "2021-10-06T14:57:44.053724",
     "exception": false,
     "start_time": "2021-10-06T14:57:43.995737",
     "status": "completed"
    },
    "tags": []
   },
   "source": [
    "Seleção de atributos"
   ]
  },
  {
   "cell_type": "markdown",
   "id": "c5ff5185",
   "metadata": {
    "papermill": {
     "duration": 0.05525,
     "end_time": "2021-10-06T14:57:44.165779",
     "exception": false,
     "start_time": "2021-10-06T14:57:44.110529",
     "status": "completed"
    },
    "tags": []
   },
   "source": [
    "Transformando dados não numéricos para numéricos"
   ]
  },
  {
   "cell_type": "code",
   "execution_count": 29,
   "id": "7eefb6b0",
   "metadata": {
    "execution": {
     "iopub.execute_input": "2021-10-06T14:57:44.287123Z",
     "iopub.status.busy": "2021-10-06T14:57:44.286468Z",
     "iopub.status.idle": "2021-10-06T14:57:44.438057Z",
     "shell.execute_reply": "2021-10-06T14:57:44.437342Z",
     "shell.execute_reply.started": "2021-10-06T14:56:42.250312Z"
    },
    "papermill": {
     "duration": 0.214633,
     "end_time": "2021-10-06T14:57:44.438245",
     "exception": false,
     "start_time": "2021-10-06T14:57:44.223612",
     "status": "completed"
    },
    "tags": []
   },
   "outputs": [],
   "source": [
    "numadult_train = nadult_train.apply(preprocessing.LabelEncoder().fit_transform)\n",
    "numadult_test = nadult_test.apply(preprocessing.LabelEncoder().fit_transform)"
   ]
  },
  {
   "cell_type": "code",
   "execution_count": 30,
   "id": "d34607b9",
   "metadata": {
    "execution": {
     "iopub.execute_input": "2021-10-06T14:57:44.555680Z",
     "iopub.status.busy": "2021-10-06T14:57:44.554984Z",
     "iopub.status.idle": "2021-10-06T14:57:44.561987Z",
     "shell.execute_reply": "2021-10-06T14:57:44.562582Z",
     "shell.execute_reply.started": "2021-10-06T14:56:42.412643Z"
    },
    "papermill": {
     "duration": 0.068051,
     "end_time": "2021-10-06T14:57:44.562782",
     "exception": false,
     "start_time": "2021-10-06T14:57:44.494731",
     "status": "completed"
    },
    "tags": []
   },
   "outputs": [],
   "source": [
    "Xadult_train = numadult_train[[\"age\",\"workclass\",\"education.num\",\"marital.status\",\"occupation\", \"relationship\", \"race\", \"sex\", \"capital.gain\",\"capital.loss\",\"hours.per.week\"]]\n",
    "Yadult_train = numadult_train.income"
   ]
  },
  {
   "cell_type": "code",
   "execution_count": 31,
   "id": "c8b4f9f1",
   "metadata": {
    "execution": {
     "iopub.execute_input": "2021-10-06T14:57:44.681915Z",
     "iopub.status.busy": "2021-10-06T14:57:44.681292Z",
     "iopub.status.idle": "2021-10-06T14:57:44.687209Z",
     "shell.execute_reply": "2021-10-06T14:57:44.687717Z",
     "shell.execute_reply.started": "2021-10-06T14:56:42.423304Z"
    },
    "papermill": {
     "duration": 0.0669,
     "end_time": "2021-10-06T14:57:44.687899",
     "exception": false,
     "start_time": "2021-10-06T14:57:44.620999",
     "status": "completed"
    },
    "tags": []
   },
   "outputs": [],
   "source": [
    "Xadult_test = numadult_test[[\"age\",\"workclass\",\"education.num\",\"marital.status\",\"occupation\", \"relationship\", \"race\", \"sex\", \"capital.gain\",\"capital.loss\",\"hours.per.week\"]]"
   ]
  },
  {
   "cell_type": "code",
   "execution_count": 32,
   "id": "c19f2bb0",
   "metadata": {
    "execution": {
     "iopub.execute_input": "2021-10-06T14:57:44.807047Z",
     "iopub.status.busy": "2021-10-06T14:57:44.806431Z",
     "iopub.status.idle": "2021-10-06T14:57:44.817687Z",
     "shell.execute_reply": "2021-10-06T14:57:44.818201Z",
     "shell.execute_reply.started": "2021-10-06T14:56:42.438246Z"
    },
    "papermill": {
     "duration": 0.073542,
     "end_time": "2021-10-06T14:57:44.818395",
     "exception": false,
     "start_time": "2021-10-06T14:57:44.744853",
     "status": "completed"
    },
    "tags": []
   },
   "outputs": [
    {
     "data": {
      "text/html": [
       "<div>\n",
       "<style scoped>\n",
       "    .dataframe tbody tr th:only-of-type {\n",
       "        vertical-align: middle;\n",
       "    }\n",
       "\n",
       "    .dataframe tbody tr th {\n",
       "        vertical-align: top;\n",
       "    }\n",
       "\n",
       "    .dataframe thead th {\n",
       "        text-align: right;\n",
       "    }\n",
       "</style>\n",
       "<table border=\"1\" class=\"dataframe\">\n",
       "  <thead>\n",
       "    <tr style=\"text-align: right;\">\n",
       "      <th></th>\n",
       "      <th>age</th>\n",
       "      <th>workclass</th>\n",
       "      <th>education.num</th>\n",
       "      <th>marital.status</th>\n",
       "      <th>occupation</th>\n",
       "      <th>relationship</th>\n",
       "      <th>race</th>\n",
       "      <th>sex</th>\n",
       "      <th>capital.gain</th>\n",
       "      <th>capital.loss</th>\n",
       "      <th>hours.per.week</th>\n",
       "    </tr>\n",
       "    <tr>\n",
       "      <th>Id</th>\n",
       "      <th></th>\n",
       "      <th></th>\n",
       "      <th></th>\n",
       "      <th></th>\n",
       "      <th></th>\n",
       "      <th></th>\n",
       "      <th></th>\n",
       "      <th></th>\n",
       "      <th></th>\n",
       "      <th></th>\n",
       "      <th></th>\n",
       "    </tr>\n",
       "  </thead>\n",
       "  <tbody>\n",
       "    <tr>\n",
       "      <th>16280</th>\n",
       "      <td>17</td>\n",
       "      <td>4</td>\n",
       "      <td>9</td>\n",
       "      <td>0</td>\n",
       "      <td>4</td>\n",
       "      <td>3</td>\n",
       "      <td>4</td>\n",
       "      <td>1</td>\n",
       "      <td>0</td>\n",
       "      <td>0</td>\n",
       "      <td>43</td>\n",
       "    </tr>\n",
       "    <tr>\n",
       "      <th>16281</th>\n",
       "      <td>41</td>\n",
       "      <td>2</td>\n",
       "      <td>5</td>\n",
       "      <td>2</td>\n",
       "      <td>14</td>\n",
       "      <td>0</td>\n",
       "      <td>4</td>\n",
       "      <td>1</td>\n",
       "      <td>0</td>\n",
       "      <td>0</td>\n",
       "      <td>39</td>\n",
       "    </tr>\n",
       "    <tr>\n",
       "      <th>16282</th>\n",
       "      <td>8</td>\n",
       "      <td>4</td>\n",
       "      <td>9</td>\n",
       "      <td>4</td>\n",
       "      <td>7</td>\n",
       "      <td>1</td>\n",
       "      <td>4</td>\n",
       "      <td>1</td>\n",
       "      <td>0</td>\n",
       "      <td>0</td>\n",
       "      <td>41</td>\n",
       "    </tr>\n",
       "    <tr>\n",
       "      <th>16283</th>\n",
       "      <td>7</td>\n",
       "      <td>4</td>\n",
       "      <td>9</td>\n",
       "      <td>0</td>\n",
       "      <td>1</td>\n",
       "      <td>1</td>\n",
       "      <td>4</td>\n",
       "      <td>0</td>\n",
       "      <td>0</td>\n",
       "      <td>0</td>\n",
       "      <td>39</td>\n",
       "    </tr>\n",
       "    <tr>\n",
       "      <th>16284</th>\n",
       "      <td>40</td>\n",
       "      <td>5</td>\n",
       "      <td>8</td>\n",
       "      <td>2</td>\n",
       "      <td>14</td>\n",
       "      <td>0</td>\n",
       "      <td>4</td>\n",
       "      <td>1</td>\n",
       "      <td>79</td>\n",
       "      <td>0</td>\n",
       "      <td>59</td>\n",
       "    </tr>\n",
       "  </tbody>\n",
       "</table>\n",
       "</div>"
      ],
      "text/plain": [
       "       age  workclass  education.num  marital.status  occupation  \\\n",
       "Id                                                                 \n",
       "16280   17          4              9               0           4   \n",
       "16281   41          2              5               2          14   \n",
       "16282    8          4              9               4           7   \n",
       "16283    7          4              9               0           1   \n",
       "16284   40          5              8               2          14   \n",
       "\n",
       "       relationship  race  sex  capital.gain  capital.loss  hours.per.week  \n",
       "Id                                                                          \n",
       "16280             3     4    1             0             0              43  \n",
       "16281             0     4    1             0             0              39  \n",
       "16282             1     4    1             0             0              41  \n",
       "16283             1     4    0             0             0              39  \n",
       "16284             0     4    1            79             0              59  "
      ]
     },
     "execution_count": 32,
     "metadata": {},
     "output_type": "execute_result"
    }
   ],
   "source": [
    "Xadult_train.head()"
   ]
  },
  {
   "cell_type": "markdown",
   "id": "255a7ce8",
   "metadata": {
    "papermill": {
     "duration": 0.056818,
     "end_time": "2021-10-06T14:57:44.933048",
     "exception": false,
     "start_time": "2021-10-06T14:57:44.876230",
     "status": "completed"
    },
    "tags": []
   },
   "source": [
    "Fazendo o mesmo com os dados de teste"
   ]
  },
  {
   "cell_type": "code",
   "execution_count": 33,
   "id": "d044d6d0",
   "metadata": {
    "execution": {
     "iopub.execute_input": "2021-10-06T14:57:45.055039Z",
     "iopub.status.busy": "2021-10-06T14:57:45.054382Z",
     "iopub.status.idle": "2021-10-06T15:02:01.360891Z",
     "shell.execute_reply": "2021-10-06T15:02:01.361445Z",
     "shell.execute_reply.started": "2021-10-06T14:56:42.465280Z"
    },
    "papermill": {
     "duration": 256.369312,
     "end_time": "2021-10-06T15:02:01.361655",
     "exception": false,
     "start_time": "2021-10-06T14:57:44.992343",
     "status": "completed"
    },
    "tags": []
   },
   "outputs": [
    {
     "name": "stdout",
     "output_type": "stream",
     "text": [
      "k = 15, acc = 0.8364864864864865\n",
      "k = 16, acc = 0.8375\n",
      "k = 17, acc = 0.8361486486486486\n",
      "k = 18, acc = 0.8364557739557739\n",
      "k = 19, acc = 0.8363636363636363\n",
      "k = 20, acc = 0.8379606879606879\n",
      "k = 21, acc = 0.8375\n",
      "k = 22, acc = 0.8384213759213759\n",
      "k = 23, acc = 0.8379914004914004\n",
      "k = 24, acc = 0.8395577395577396\n",
      "k = 25, acc = 0.8382063882063882\n",
      "k = 26, acc = 0.8385749385749385\n",
      "k = 27, acc = 0.837438574938575\n",
      "k = 28, acc = 0.8378992628992629\n",
      "k = 29, acc = 0.8379299754299755\n",
      "k = 30, acc = 0.8385442260442261\n",
      "Melhor K = 24 e acurácia = 0.8395577395577396\n"
     ]
    }
   ],
   "source": [
    "maior_acc = 0\n",
    "maior_k = 0\n",
    "for k in range (15, 31):\n",
    "    knn = KNeighborsClassifier(n_neighbors = k)\n",
    "    score = cross_val_score(knn, Xadult_train, Yadult_train, cv=10, scoring = 'accuracy').mean()\n",
    "    print(f\"k = {k}, acc = {score}\")\n",
    "    if score > maior_acc:\n",
    "        maior_k = k\n",
    "        maior_acc = score\n",
    "\n",
    "print(\"Melhor K = \" + str(maior_k) + \" e acurácia = \" + str(maior_acc))"
   ]
  },
  {
   "cell_type": "code",
   "execution_count": 34,
   "id": "d2f0017b",
   "metadata": {
    "execution": {
     "iopub.execute_input": "2021-10-06T15:02:01.490360Z",
     "iopub.status.busy": "2021-10-06T15:02:01.489685Z",
     "iopub.status.idle": "2021-10-06T15:02:01.493113Z",
     "shell.execute_reply": "2021-10-06T15:02:01.492575Z",
     "shell.execute_reply.started": "2021-10-06T14:57:09.569113Z"
    },
    "papermill": {
     "duration": 0.06995,
     "end_time": "2021-10-06T15:02:01.493263",
     "exception": false,
     "start_time": "2021-10-06T15:02:01.423313",
     "status": "completed"
    },
    "tags": []
   },
   "outputs": [],
   "source": [
    "knn = KNeighborsClassifier(n_neighbors = maior_k)"
   ]
  },
  {
   "cell_type": "code",
   "execution_count": 35,
   "id": "e29be089",
   "metadata": {
    "execution": {
     "iopub.execute_input": "2021-10-06T15:02:01.619426Z",
     "iopub.status.busy": "2021-10-06T15:02:01.618692Z",
     "iopub.status.idle": "2021-10-06T15:02:02.912424Z",
     "shell.execute_reply": "2021-10-06T15:02:02.911903Z",
     "shell.execute_reply.started": "2021-10-06T14:57:09.570852Z"
    },
    "papermill": {
     "duration": 1.358389,
     "end_time": "2021-10-06T15:02:02.912581",
     "exception": false,
     "start_time": "2021-10-06T15:02:01.554192",
     "status": "completed"
    },
    "tags": []
   },
   "outputs": [
    {
     "data": {
      "text/plain": [
       "KNeighborsClassifier(n_neighbors=24)"
      ]
     },
     "execution_count": 35,
     "metadata": {},
     "output_type": "execute_result"
    }
   ],
   "source": [
    "knn.fit(Xadult_train, Yadult_train)"
   ]
  },
  {
   "cell_type": "code",
   "execution_count": 36,
   "id": "a00728a9",
   "metadata": {
    "execution": {
     "iopub.execute_input": "2021-10-06T15:02:03.049334Z",
     "iopub.status.busy": "2021-10-06T15:02:03.048644Z",
     "iopub.status.idle": "2021-10-06T15:02:03.053130Z",
     "shell.execute_reply": "2021-10-06T15:02:03.052585Z",
     "shell.execute_reply.started": "2021-10-06T14:57:09.573265Z"
    },
    "papermill": {
     "duration": 0.079015,
     "end_time": "2021-10-06T15:02:03.053276",
     "exception": false,
     "start_time": "2021-10-06T15:02:02.974261",
     "status": "completed"
    },
    "tags": []
   },
   "outputs": [
    {
     "data": {
      "text/html": [
       "<div>\n",
       "<style scoped>\n",
       "    .dataframe tbody tr th:only-of-type {\n",
       "        vertical-align: middle;\n",
       "    }\n",
       "\n",
       "    .dataframe tbody tr th {\n",
       "        vertical-align: top;\n",
       "    }\n",
       "\n",
       "    .dataframe thead th {\n",
       "        text-align: right;\n",
       "    }\n",
       "</style>\n",
       "<table border=\"1\" class=\"dataframe\">\n",
       "  <thead>\n",
       "    <tr style=\"text-align: right;\">\n",
       "      <th></th>\n",
       "      <th>age</th>\n",
       "      <th>workclass</th>\n",
       "      <th>education.num</th>\n",
       "      <th>marital.status</th>\n",
       "      <th>occupation</th>\n",
       "      <th>relationship</th>\n",
       "      <th>race</th>\n",
       "      <th>sex</th>\n",
       "      <th>capital.gain</th>\n",
       "      <th>capital.loss</th>\n",
       "      <th>hours.per.week</th>\n",
       "    </tr>\n",
       "    <tr>\n",
       "      <th>Id</th>\n",
       "      <th></th>\n",
       "      <th></th>\n",
       "      <th></th>\n",
       "      <th></th>\n",
       "      <th></th>\n",
       "      <th></th>\n",
       "      <th></th>\n",
       "      <th></th>\n",
       "      <th></th>\n",
       "      <th></th>\n",
       "      <th></th>\n",
       "    </tr>\n",
       "  </thead>\n",
       "  <tbody>\n",
       "    <tr>\n",
       "      <th>16280</th>\n",
       "      <td>17</td>\n",
       "      <td>4</td>\n",
       "      <td>9</td>\n",
       "      <td>0</td>\n",
       "      <td>4</td>\n",
       "      <td>3</td>\n",
       "      <td>4</td>\n",
       "      <td>1</td>\n",
       "      <td>0</td>\n",
       "      <td>0</td>\n",
       "      <td>43</td>\n",
       "    </tr>\n",
       "    <tr>\n",
       "      <th>16281</th>\n",
       "      <td>41</td>\n",
       "      <td>2</td>\n",
       "      <td>5</td>\n",
       "      <td>2</td>\n",
       "      <td>14</td>\n",
       "      <td>0</td>\n",
       "      <td>4</td>\n",
       "      <td>1</td>\n",
       "      <td>0</td>\n",
       "      <td>0</td>\n",
       "      <td>39</td>\n",
       "    </tr>\n",
       "    <tr>\n",
       "      <th>16282</th>\n",
       "      <td>8</td>\n",
       "      <td>4</td>\n",
       "      <td>9</td>\n",
       "      <td>4</td>\n",
       "      <td>7</td>\n",
       "      <td>1</td>\n",
       "      <td>4</td>\n",
       "      <td>1</td>\n",
       "      <td>0</td>\n",
       "      <td>0</td>\n",
       "      <td>41</td>\n",
       "    </tr>\n",
       "    <tr>\n",
       "      <th>16283</th>\n",
       "      <td>7</td>\n",
       "      <td>4</td>\n",
       "      <td>9</td>\n",
       "      <td>0</td>\n",
       "      <td>1</td>\n",
       "      <td>1</td>\n",
       "      <td>4</td>\n",
       "      <td>0</td>\n",
       "      <td>0</td>\n",
       "      <td>0</td>\n",
       "      <td>39</td>\n",
       "    </tr>\n",
       "    <tr>\n",
       "      <th>16284</th>\n",
       "      <td>40</td>\n",
       "      <td>5</td>\n",
       "      <td>8</td>\n",
       "      <td>2</td>\n",
       "      <td>14</td>\n",
       "      <td>0</td>\n",
       "      <td>4</td>\n",
       "      <td>1</td>\n",
       "      <td>79</td>\n",
       "      <td>0</td>\n",
       "      <td>59</td>\n",
       "    </tr>\n",
       "  </tbody>\n",
       "</table>\n",
       "</div>"
      ],
      "text/plain": [
       "       age  workclass  education.num  marital.status  occupation  \\\n",
       "Id                                                                 \n",
       "16280   17          4              9               0           4   \n",
       "16281   41          2              5               2          14   \n",
       "16282    8          4              9               4           7   \n",
       "16283    7          4              9               0           1   \n",
       "16284   40          5              8               2          14   \n",
       "\n",
       "       relationship  race  sex  capital.gain  capital.loss  hours.per.week  \n",
       "Id                                                                          \n",
       "16280             3     4    1             0             0              43  \n",
       "16281             0     4    1             0             0              39  \n",
       "16282             1     4    1             0             0              41  \n",
       "16283             1     4    0             0             0              39  \n",
       "16284             0     4    1            79             0              59  "
      ]
     },
     "execution_count": 36,
     "metadata": {},
     "output_type": "execute_result"
    }
   ],
   "source": [
    "Xadult_train.head()"
   ]
  },
  {
   "cell_type": "code",
   "execution_count": 37,
   "id": "debadbaf",
   "metadata": {
    "execution": {
     "iopub.execute_input": "2021-10-06T15:02:03.190496Z",
     "iopub.status.busy": "2021-10-06T15:02:03.189739Z",
     "iopub.status.idle": "2021-10-06T15:02:03.194091Z",
     "shell.execute_reply": "2021-10-06T15:02:03.193591Z",
     "shell.execute_reply.started": "2021-10-06T14:57:09.574853Z"
    },
    "papermill": {
     "duration": 0.078965,
     "end_time": "2021-10-06T15:02:03.194231",
     "exception": false,
     "start_time": "2021-10-06T15:02:03.115266",
     "status": "completed"
    },
    "tags": []
   },
   "outputs": [
    {
     "data": {
      "text/html": [
       "<div>\n",
       "<style scoped>\n",
       "    .dataframe tbody tr th:only-of-type {\n",
       "        vertical-align: middle;\n",
       "    }\n",
       "\n",
       "    .dataframe tbody tr th {\n",
       "        vertical-align: top;\n",
       "    }\n",
       "\n",
       "    .dataframe thead th {\n",
       "        text-align: right;\n",
       "    }\n",
       "</style>\n",
       "<table border=\"1\" class=\"dataframe\">\n",
       "  <thead>\n",
       "    <tr style=\"text-align: right;\">\n",
       "      <th></th>\n",
       "      <th>age</th>\n",
       "      <th>workclass</th>\n",
       "      <th>education.num</th>\n",
       "      <th>marital.status</th>\n",
       "      <th>occupation</th>\n",
       "      <th>relationship</th>\n",
       "      <th>race</th>\n",
       "      <th>sex</th>\n",
       "      <th>capital.gain</th>\n",
       "      <th>capital.loss</th>\n",
       "      <th>hours.per.week</th>\n",
       "    </tr>\n",
       "    <tr>\n",
       "      <th>Id</th>\n",
       "      <th></th>\n",
       "      <th></th>\n",
       "      <th></th>\n",
       "      <th></th>\n",
       "      <th></th>\n",
       "      <th></th>\n",
       "      <th></th>\n",
       "      <th></th>\n",
       "      <th></th>\n",
       "      <th></th>\n",
       "      <th></th>\n",
       "    </tr>\n",
       "  </thead>\n",
       "  <tbody>\n",
       "    <tr>\n",
       "      <th>0</th>\n",
       "      <td>8</td>\n",
       "      <td>4</td>\n",
       "      <td>12</td>\n",
       "      <td>4</td>\n",
       "      <td>10</td>\n",
       "      <td>1</td>\n",
       "      <td>4</td>\n",
       "      <td>1</td>\n",
       "      <td>0</td>\n",
       "      <td>0</td>\n",
       "      <td>43</td>\n",
       "    </tr>\n",
       "    <tr>\n",
       "      <th>1</th>\n",
       "      <td>47</td>\n",
       "      <td>7</td>\n",
       "      <td>12</td>\n",
       "      <td>2</td>\n",
       "      <td>4</td>\n",
       "      <td>0</td>\n",
       "      <td>4</td>\n",
       "      <td>1</td>\n",
       "      <td>0</td>\n",
       "      <td>0</td>\n",
       "      <td>44</td>\n",
       "    </tr>\n",
       "    <tr>\n",
       "      <th>2</th>\n",
       "      <td>14</td>\n",
       "      <td>4</td>\n",
       "      <td>13</td>\n",
       "      <td>0</td>\n",
       "      <td>4</td>\n",
       "      <td>1</td>\n",
       "      <td>4</td>\n",
       "      <td>0</td>\n",
       "      <td>0</td>\n",
       "      <td>0</td>\n",
       "      <td>39</td>\n",
       "    </tr>\n",
       "    <tr>\n",
       "      <th>3</th>\n",
       "      <td>28</td>\n",
       "      <td>4</td>\n",
       "      <td>8</td>\n",
       "      <td>4</td>\n",
       "      <td>7</td>\n",
       "      <td>3</td>\n",
       "      <td>4</td>\n",
       "      <td>1</td>\n",
       "      <td>0</td>\n",
       "      <td>0</td>\n",
       "      <td>39</td>\n",
       "    </tr>\n",
       "    <tr>\n",
       "      <th>4</th>\n",
       "      <td>47</td>\n",
       "      <td>5</td>\n",
       "      <td>12</td>\n",
       "      <td>2</td>\n",
       "      <td>4</td>\n",
       "      <td>0</td>\n",
       "      <td>4</td>\n",
       "      <td>1</td>\n",
       "      <td>0</td>\n",
       "      <td>0</td>\n",
       "      <td>49</td>\n",
       "    </tr>\n",
       "  </tbody>\n",
       "</table>\n",
       "</div>"
      ],
      "text/plain": [
       "    age  workclass  education.num  marital.status  occupation  relationship  \\\n",
       "Id                                                                            \n",
       "0     8          4             12               4          10             1   \n",
       "1    47          7             12               2           4             0   \n",
       "2    14          4             13               0           4             1   \n",
       "3    28          4              8               4           7             3   \n",
       "4    47          5             12               2           4             0   \n",
       "\n",
       "    race  sex  capital.gain  capital.loss  hours.per.week  \n",
       "Id                                                         \n",
       "0      4    1             0             0              43  \n",
       "1      4    1             0             0              44  \n",
       "2      4    0             0             0              39  \n",
       "3      4    1             0             0              39  \n",
       "4      4    1             0             0              49  "
      ]
     },
     "execution_count": 37,
     "metadata": {},
     "output_type": "execute_result"
    }
   ],
   "source": [
    "Xadult_test.head()"
   ]
  },
  {
   "cell_type": "code",
   "execution_count": 38,
   "id": "c20aefb6",
   "metadata": {
    "execution": {
     "iopub.execute_input": "2021-10-06T15:02:03.336999Z",
     "iopub.status.busy": "2021-10-06T15:02:03.335831Z",
     "iopub.status.idle": "2021-10-06T15:02:03.340062Z",
     "shell.execute_reply": "2021-10-06T15:02:03.340573Z",
     "shell.execute_reply.started": "2021-10-06T14:57:09.576423Z"
    },
    "papermill": {
     "duration": 0.084305,
     "end_time": "2021-10-06T15:02:03.340771",
     "exception": false,
     "start_time": "2021-10-06T15:02:03.256466",
     "status": "completed"
    },
    "tags": []
   },
   "outputs": [
    {
     "data": {
      "text/html": [
       "<div>\n",
       "<style scoped>\n",
       "    .dataframe tbody tr th:only-of-type {\n",
       "        vertical-align: middle;\n",
       "    }\n",
       "\n",
       "    .dataframe tbody tr th {\n",
       "        vertical-align: top;\n",
       "    }\n",
       "\n",
       "    .dataframe thead th {\n",
       "        text-align: right;\n",
       "    }\n",
       "</style>\n",
       "<table border=\"1\" class=\"dataframe\">\n",
       "  <thead>\n",
       "    <tr style=\"text-align: right;\">\n",
       "      <th></th>\n",
       "      <th>age</th>\n",
       "      <th>workclass</th>\n",
       "      <th>education.num</th>\n",
       "      <th>marital.status</th>\n",
       "      <th>occupation</th>\n",
       "      <th>relationship</th>\n",
       "      <th>race</th>\n",
       "      <th>sex</th>\n",
       "      <th>capital.gain</th>\n",
       "      <th>capital.loss</th>\n",
       "      <th>hours.per.week</th>\n",
       "    </tr>\n",
       "    <tr>\n",
       "      <th>Id</th>\n",
       "      <th></th>\n",
       "      <th></th>\n",
       "      <th></th>\n",
       "      <th></th>\n",
       "      <th></th>\n",
       "      <th></th>\n",
       "      <th></th>\n",
       "      <th></th>\n",
       "      <th></th>\n",
       "      <th></th>\n",
       "      <th></th>\n",
       "    </tr>\n",
       "  </thead>\n",
       "  <tbody>\n",
       "    <tr>\n",
       "      <th>16275</th>\n",
       "      <td>23</td>\n",
       "      <td>4</td>\n",
       "      <td>8</td>\n",
       "      <td>2</td>\n",
       "      <td>3</td>\n",
       "      <td>0</td>\n",
       "      <td>4</td>\n",
       "      <td>1</td>\n",
       "      <td>0</td>\n",
       "      <td>0</td>\n",
       "      <td>39</td>\n",
       "    </tr>\n",
       "    <tr>\n",
       "      <th>16276</th>\n",
       "      <td>13</td>\n",
       "      <td>2</td>\n",
       "      <td>8</td>\n",
       "      <td>2</td>\n",
       "      <td>8</td>\n",
       "      <td>0</td>\n",
       "      <td>4</td>\n",
       "      <td>1</td>\n",
       "      <td>0</td>\n",
       "      <td>0</td>\n",
       "      <td>39</td>\n",
       "    </tr>\n",
       "    <tr>\n",
       "      <th>16277</th>\n",
       "      <td>8</td>\n",
       "      <td>4</td>\n",
       "      <td>8</td>\n",
       "      <td>4</td>\n",
       "      <td>1</td>\n",
       "      <td>3</td>\n",
       "      <td>1</td>\n",
       "      <td>1</td>\n",
       "      <td>0</td>\n",
       "      <td>0</td>\n",
       "      <td>39</td>\n",
       "    </tr>\n",
       "    <tr>\n",
       "      <th>16278</th>\n",
       "      <td>43</td>\n",
       "      <td>4</td>\n",
       "      <td>13</td>\n",
       "      <td>4</td>\n",
       "      <td>4</td>\n",
       "      <td>1</td>\n",
       "      <td>4</td>\n",
       "      <td>0</td>\n",
       "      <td>49</td>\n",
       "      <td>0</td>\n",
       "      <td>34</td>\n",
       "    </tr>\n",
       "    <tr>\n",
       "      <th>16279</th>\n",
       "      <td>32</td>\n",
       "      <td>4</td>\n",
       "      <td>9</td>\n",
       "      <td>2</td>\n",
       "      <td>3</td>\n",
       "      <td>0</td>\n",
       "      <td>4</td>\n",
       "      <td>1</td>\n",
       "      <td>90</td>\n",
       "      <td>0</td>\n",
       "      <td>39</td>\n",
       "    </tr>\n",
       "  </tbody>\n",
       "</table>\n",
       "</div>"
      ],
      "text/plain": [
       "       age  workclass  education.num  marital.status  occupation  \\\n",
       "Id                                                                 \n",
       "16275   23          4              8               2           3   \n",
       "16276   13          2              8               2           8   \n",
       "16277    8          4              8               4           1   \n",
       "16278   43          4             13               4           4   \n",
       "16279   32          4              9               2           3   \n",
       "\n",
       "       relationship  race  sex  capital.gain  capital.loss  hours.per.week  \n",
       "Id                                                                          \n",
       "16275             0     4    1             0             0              39  \n",
       "16276             0     4    1             0             0              39  \n",
       "16277             3     1    1             0             0              39  \n",
       "16278             1     4    0            49             0              34  \n",
       "16279             0     4    1            90             0              39  "
      ]
     },
     "execution_count": 38,
     "metadata": {},
     "output_type": "execute_result"
    }
   ],
   "source": [
    "Xadult_test.tail()"
   ]
  },
  {
   "cell_type": "markdown",
   "id": "be623e05",
   "metadata": {
    "papermill": {
     "duration": 0.063532,
     "end_time": "2021-10-06T15:02:03.468460",
     "exception": false,
     "start_time": "2021-10-06T15:02:03.404928",
     "status": "completed"
    },
    "tags": []
   },
   "source": [
    "Prevendo os valores do income da base de teste"
   ]
  },
  {
   "cell_type": "code",
   "execution_count": 39,
   "id": "d12a81d2",
   "metadata": {
    "execution": {
     "iopub.execute_input": "2021-10-06T15:02:03.602813Z",
     "iopub.status.busy": "2021-10-06T15:02:03.602155Z",
     "iopub.status.idle": "2021-10-06T15:02:06.124624Z",
     "shell.execute_reply": "2021-10-06T15:02:06.124098Z",
     "shell.execute_reply.started": "2021-10-06T14:57:09.577791Z"
    },
    "papermill": {
     "duration": 2.593228,
     "end_time": "2021-10-06T15:02:06.124760",
     "exception": false,
     "start_time": "2021-10-06T15:02:03.531532",
     "status": "completed"
    },
    "tags": []
   },
   "outputs": [
    {
     "data": {
      "text/plain": [
       "array([0, 0, 0, ..., 0, 0, 1])"
      ]
     },
     "execution_count": 39,
     "metadata": {},
     "output_type": "execute_result"
    }
   ],
   "source": [
    "YPrediction = knn.predict(Xadult_test)\n",
    "YPrediction"
   ]
  },
  {
   "cell_type": "markdown",
   "id": "ce81b27a",
   "metadata": {
    "papermill": {
     "duration": 0.063547,
     "end_time": "2021-10-06T15:02:06.251979",
     "exception": false,
     "start_time": "2021-10-06T15:02:06.188432",
     "status": "completed"
    },
    "tags": []
   },
   "source": [
    "Ajustando o dataframe"
   ]
  },
  {
   "cell_type": "code",
   "execution_count": 40,
   "id": "732c3daa",
   "metadata": {
    "execution": {
     "iopub.execute_input": "2021-10-06T15:02:06.414754Z",
     "iopub.status.busy": "2021-10-06T15:02:06.413880Z",
     "iopub.status.idle": "2021-10-06T15:02:06.417310Z",
     "shell.execute_reply": "2021-10-06T15:02:06.417804Z",
     "shell.execute_reply.started": "2021-10-06T14:57:09.578978Z"
    },
    "papermill": {
     "duration": 0.102565,
     "end_time": "2021-10-06T15:02:06.417999",
     "exception": false,
     "start_time": "2021-10-06T15:02:06.315434",
     "status": "completed"
    },
    "tags": []
   },
   "outputs": [
    {
     "data": {
      "text/html": [
       "<div>\n",
       "<style scoped>\n",
       "    .dataframe tbody tr th:only-of-type {\n",
       "        vertical-align: middle;\n",
       "    }\n",
       "\n",
       "    .dataframe tbody tr th {\n",
       "        vertical-align: top;\n",
       "    }\n",
       "\n",
       "    .dataframe thead th {\n",
       "        text-align: right;\n",
       "    }\n",
       "</style>\n",
       "<table border=\"1\" class=\"dataframe\">\n",
       "  <thead>\n",
       "    <tr style=\"text-align: right;\">\n",
       "      <th></th>\n",
       "      <th>Id</th>\n",
       "      <th>income</th>\n",
       "    </tr>\n",
       "  </thead>\n",
       "  <tbody>\n",
       "    <tr>\n",
       "      <th>0</th>\n",
       "      <td>0</td>\n",
       "      <td>&lt;=50K</td>\n",
       "    </tr>\n",
       "    <tr>\n",
       "      <th>1</th>\n",
       "      <td>1</td>\n",
       "      <td>&lt;=50K</td>\n",
       "    </tr>\n",
       "    <tr>\n",
       "      <th>2</th>\n",
       "      <td>2</td>\n",
       "      <td>&lt;=50K</td>\n",
       "    </tr>\n",
       "    <tr>\n",
       "      <th>3</th>\n",
       "      <td>3</td>\n",
       "      <td>&lt;=50K</td>\n",
       "    </tr>\n",
       "    <tr>\n",
       "      <th>4</th>\n",
       "      <td>4</td>\n",
       "      <td>&lt;=50K</td>\n",
       "    </tr>\n",
       "  </tbody>\n",
       "</table>\n",
       "</div>"
      ],
      "text/plain": [
       "   Id income\n",
       "0   0  <=50K\n",
       "1   1  <=50K\n",
       "2   2  <=50K\n",
       "3   3  <=50K\n",
       "4   4  <=50K"
      ]
     },
     "execution_count": 40,
     "metadata": {},
     "output_type": "execute_result"
    }
   ],
   "source": [
    "incomes = []\n",
    "for income in YPrediction:\n",
    "    if income == 0:\n",
    "        incomes.append('<=50K')\n",
    "    else:\n",
    "        incomes.append('>50K')\n",
    "\n",
    "Adultsubmission = pd.DataFrame()\n",
    "Adultsubmission[0] = Xadult_test.index\n",
    "Adultsubmission[1] = incomes\n",
    "Adultsubmission.columns = ['Id', 'income']\n",
    "Adultsubmission.head()"
   ]
  },
  {
   "cell_type": "code",
   "execution_count": 41,
   "id": "f4fb9275",
   "metadata": {
    "execution": {
     "iopub.execute_input": "2021-10-06T15:02:06.558342Z",
     "iopub.status.busy": "2021-10-06T15:02:06.557609Z",
     "iopub.status.idle": "2021-10-06T15:02:06.562904Z",
     "shell.execute_reply": "2021-10-06T15:02:06.562256Z",
     "shell.execute_reply.started": "2021-10-06T14:57:09.580856Z"
    },
    "papermill": {
     "duration": 0.080052,
     "end_time": "2021-10-06T15:02:06.563053",
     "exception": false,
     "start_time": "2021-10-06T15:02:06.483001",
     "status": "completed"
    },
    "tags": []
   },
   "outputs": [
    {
     "data": {
      "text/html": [
       "<div>\n",
       "<style scoped>\n",
       "    .dataframe tbody tr th:only-of-type {\n",
       "        vertical-align: middle;\n",
       "    }\n",
       "\n",
       "    .dataframe tbody tr th {\n",
       "        vertical-align: top;\n",
       "    }\n",
       "\n",
       "    .dataframe thead th {\n",
       "        text-align: right;\n",
       "    }\n",
       "</style>\n",
       "<table border=\"1\" class=\"dataframe\">\n",
       "  <thead>\n",
       "    <tr style=\"text-align: right;\">\n",
       "      <th></th>\n",
       "      <th>Id</th>\n",
       "      <th>income</th>\n",
       "    </tr>\n",
       "  </thead>\n",
       "  <tbody>\n",
       "    <tr>\n",
       "      <th>16275</th>\n",
       "      <td>16275</td>\n",
       "      <td>&lt;=50K</td>\n",
       "    </tr>\n",
       "    <tr>\n",
       "      <th>16276</th>\n",
       "      <td>16276</td>\n",
       "      <td>&lt;=50K</td>\n",
       "    </tr>\n",
       "    <tr>\n",
       "      <th>16277</th>\n",
       "      <td>16277</td>\n",
       "      <td>&lt;=50K</td>\n",
       "    </tr>\n",
       "    <tr>\n",
       "      <th>16278</th>\n",
       "      <td>16278</td>\n",
       "      <td>&lt;=50K</td>\n",
       "    </tr>\n",
       "    <tr>\n",
       "      <th>16279</th>\n",
       "      <td>16279</td>\n",
       "      <td>&gt;50K</td>\n",
       "    </tr>\n",
       "  </tbody>\n",
       "</table>\n",
       "</div>"
      ],
      "text/plain": [
       "          Id income\n",
       "16275  16275  <=50K\n",
       "16276  16276  <=50K\n",
       "16277  16277  <=50K\n",
       "16278  16278  <=50K\n",
       "16279  16279   >50K"
      ]
     },
     "execution_count": 41,
     "metadata": {},
     "output_type": "execute_result"
    }
   ],
   "source": [
    "Adultsubmission.tail()"
   ]
  },
  {
   "cell_type": "code",
   "execution_count": 42,
   "id": "59b05e42",
   "metadata": {
    "execution": {
     "iopub.execute_input": "2021-10-06T15:02:06.698551Z",
     "iopub.status.busy": "2021-10-06T15:02:06.697866Z",
     "iopub.status.idle": "2021-10-06T15:02:06.748360Z",
     "shell.execute_reply": "2021-10-06T15:02:06.747684Z",
     "shell.execute_reply.started": "2021-10-06T14:57:09.582268Z"
    },
    "papermill": {
     "duration": 0.120912,
     "end_time": "2021-10-06T15:02:06.748552",
     "exception": false,
     "start_time": "2021-10-06T15:02:06.627640",
     "status": "completed"
    },
    "tags": []
   },
   "outputs": [],
   "source": [
    "# Salvando o csv\n",
    "Adultsubmission.to_csv('adultsubmission.csv', index = False)"
   ]
  }
 ],
 "metadata": {
  "kernelspec": {
   "display_name": "Python 3",
   "language": "python",
   "name": "python3"
  },
  "language_info": {
   "codemirror_mode": {
    "name": "ipython",
    "version": 3
   },
   "file_extension": ".py",
   "mimetype": "text/x-python",
   "name": "python",
   "nbconvert_exporter": "python",
   "pygments_lexer": "ipython3",
   "version": "3.7.10"
  },
  "papermill": {
   "default_parameters": {},
   "duration": 285.936488,
   "end_time": "2021-10-06T15:02:08.188939",
   "environment_variables": {},
   "exception": null,
   "input_path": "__notebook__.ipynb",
   "output_path": "__notebook__.ipynb",
   "parameters": {},
   "start_time": "2021-10-06T14:57:22.252451",
   "version": "2.3.3"
  }
 },
 "nbformat": 4,
 "nbformat_minor": 5
}
